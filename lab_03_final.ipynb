{
 "cells": [
  {
   "cell_type": "markdown",
   "metadata": {},
   "source": [
    "$$\n",
    "\\LaTeX macros\n",
    "\\newcommand{\\pba}{{p^b_a}}\n",
    "\\newcommand{\\de}{{\\dot{e}}}\n",
    "\\newcommand{\\dde}{{\\ddot{e}}}\n",
    "\\newcommand{\\pbd}{{p^b_d}}\n",
    "\\newcommand{\\dpba}{{\\dot{p}^b_a}}\n",
    "\\newcommand{\\ddpba}{{\\ddot{p}^b_a}}\n",
    "\\newcommand{\\dpbd}{{\\dot{p}^b_d}}\n",
    "\\newcommand{\\ddpbd}{{\\ddot{p}^b_d}}\n",
    "\\newcommand{\\pag}{{p^a_g}}\n",
    "\\newcommand{\\pav}{{p^a_v}}\n",
    "\\newcommand{\\dpag}{{\\dot{p}^a_g}}\n",
    "\\newcommand{\\pai}{{p^a_i}}\n",
    "\\newcommand{\\dpai}{{\\dot{p}^a_i}}\n",
    "\\newcommand{\\pbg}{{p^b_g}}\n",
    "\\newcommand{\\dpbg}{{\\dot{p}^b_g}}\n",
    "\\newcommand{\\ddpbg}{{\\ddot{p}^b_g}}\n",
    "\\newcommand{\\pbi}{{p^b_i}}\n",
    "\\newcommand{\\dpbi}{{\\dot{p}^b_i}}\n",
    "\\newcommand{\\ddpbi}{{\\ddot{p}^b_i}}\n",
    "\\newcommand{\\Rba}{{R^b_a}}\n",
    "\\newcommand{\\dRba}{{\\dot{R}{}^b_a}}\n",
    "\\newcommand{\\ddRba}{{\\ddot{R}{}^b_a}}\n",
    "\\newcommand{\\Rab}{{R^a_b}}\n",
    "\\newcommand{\\omaa}{{\\omega^a_a}}\n",
    "\\newcommand{\\domaa}{{\\dot{\\omega}{}^a_a}}\n",
    "\\newcommand{\\Somaa}{{S\\left(\\omega^a_a\\right)}}\n",
    "\\newcommand{\\dSomaa}{{S\\left(\\dot{\\omega}{}^a_a\\right)}}\n",
    "\\newcommand{\\Spag}{{S\\left(p^a_g\\right)}}\n",
    "\\newcommand{\\Spai}{{S\\left(p^a_i\\right)}}\n",
    "\\newcommand{\\nuaa}{{\\nu^a_a}}\n",
    "\\newcommand{\\dnuaa}{{\\dot{\\nu}{}^a_a}}\n",
    "\\newcommand{\\Fb}{{F^b}}\n",
    "\\newcommand{\\Fa}{{F^a}}\n",
    "\\newcommand{\\Fg}{{F_g}}\n",
    "\\newcommand{\\Fv}{{F_v}}\n",
    "\\newcommand{\\Ng}{{N_g}}\n",
    "\\newcommand{\\Nv}{{N_v}}\n",
    "\\newcommand{\\Fe}{{F^{ext}}}\n",
    "\\newcommand{\\Na}{{N^a}}\n",
    "\\newcommand{\\iM}{{M^{-1}}}\n",
    "\\newcommand{\\BM}{\\left[\\begin{matrix}}\n",
    "\\newcommand{\\EBM}{\\end{matrix}\\right]}\n",
    "\\newcommand{\\gamaa}{{\\gamma^a_a}}\n",
    "\\newcommand{\\dgamaa}{{\\dot{\\gamma}{}^a_a}}\n",
    "\\newcommand{\\vx}{\\vec{x}}\n",
    "\\newcommand{\\vt}{\\vec{\\tau}}\n",
    "\\newcommand{\\vn}{\\vec{\\nu}}\n",
    "\\newcommand{\\T}{^\\top}\n",
    "\\newcommand{\\o}[1]{{\\overline{#1}}}\n",
    "\\newcommand{\\d}[2]{{\\frac{\\partial #1}{\\partial #2}}}\n",
    "\\newcommand{\\xpba}{{\\,}^x{\\!}p^b_a}\n",
    "\\newcommand{\\ypba}{{\\,}^y{\\!}p^b_a}\n",
    "$$\n"
   ]
  },
  {
   "cell_type": "markdown",
   "metadata": {},
   "source": [
    "# Lab 03 - Control of a quadrotor\n",
    "In this exercise model of flying robot is specified with actuation system characteristic for quadrotor.\n",
    "Than control algorithm for altitude and pose stabilisation is implemented."
   ]
  },
  {
   "cell_type": "markdown",
   "metadata": {},
   "source": [
    "## The model of a flying robot\n",
    "At the beginning let import all necessary libraries: "
   ]
  },
  {
   "cell_type": "code",
   "execution_count": 1,
   "metadata": {},
   "outputs": [],
   "source": [
    "from sympy import *\n",
    "from sympy.plotting import plot\n",
    "from sympy.matrices import matrix_multiply_elementwise as mme\n",
    "import numpy as np\n",
    "from scipy.integrate import solve_ivp\n",
    "import matplotlib.pyplot as plt\n",
    "import functools"
   ]
  },
  {
   "cell_type": "markdown",
   "metadata": {},
   "source": [
    "Next define all variables used to define equation of the robot:"
   ]
  },
  {
   "cell_type": "code",
   "execution_count": 2,
   "metadata": {},
   "outputs": [
    {
     "data": {
      "text/latex": [
       "$\\displaystyle \\left[\\begin{matrix}\\frac{d}{d t} \\phi{\\left(t \\right)}\\\\\\frac{d}{d t} \\theta{\\left(t \\right)}\\\\\\frac{d}{d t} \\psi{\\left(t \\right)}\\end{matrix}\\right]$"
      ],
      "text/plain": [
       "Matrix([\n",
       "[  Derivative(\\phi(t), t)],\n",
       "[Derivative(\\theta(t), t)],\n",
       "[  Derivative(\\psi(t), t)]])"
      ]
     },
     "execution_count": 2,
     "metadata": {},
     "output_type": "execute_result"
    }
   ],
   "source": [
    "t = symbols('t')\n",
    "\n",
    "# Flying robot\n",
    "phi_, tta_, psi_ = symbols('\\phi \\\\theta \\psi', cls=Function)\n",
    "phi, tta, psi = phi_(t), tta_(t), psi_(t)\n",
    "\n",
    "m, Ix, Iy, Iz = symbols('m I_x I_y I_z') # mass and inertia\n",
    "u_,v_,w_,p_,q_,r_ = symbols('u v w p q r', cls=Function)\n",
    "u,v,w,p,q,r = u_(t),v_(t),w_(t),p_(t),q_(t),r_(t)\n",
    "xpag, ypag, zpag = symbols('{\\\\\\,}^x{\\\\!}p^a_g {\\\\\\,}^y{\\\\!}p^a_g {\\\\\\,}^z{\\\\!}p^a_g')\n",
    "\n",
    "grav, rho, Vol = symbols('g \\\\rho_{air} V') # earth acceleration, air density, object volume\n",
    "xpav, ypav, zpav = symbols('{\\\\\\,}^x{\\\\!}p^a_v {\\\\\\,}^y{\\\\!}p^a_v {\\\\\\,}^z{\\\\!}p^a_v')\n",
    "pav = Matrix([xpav,ypav,zpav])\n",
    "\n",
    "# aerodynamical coeffiecients\n",
    "uCd, vCd, wCd, pCd, qCd, rCd = symbols('{\\\\\\,}^u{\\\\!}C_d {\\\\\\,}^v{\\\\!}C_d {\\\\\\,}^w{\\\\!}C_d {\\\\\\,}^p{\\\\!}C_d {\\\\\\,}^q{\\\\!}C_d {\\\\\\,}^r{\\\\!}C_d')\n",
    "uCl, vCl, pCl, qCl, rCl = symbols('{\\\\\\,}^u{\\\\!}C_l {\\\\\\,}^v{\\\\!}C_l {\\\\\\,}^p{\\\\!}C_l {\\\\\\,}^q{\\\\!}C_l {\\\\\\,}^r{\\\\!}C_l')\n",
    "\n",
    "tauu_,tauv_,tauw_,taup_,tauq_,taur_ = symbols('\\\\tau_u \\\\tau_v \\\\tau_w \\\\tau_p \\\\tau_q \\\\tau_r', cls=Function)\n",
    "tauu,tauv,tauw,taup,tauq,taur = tauu_(t),tauv_(t),tauw_(t),taup_(t),tauq_(t),taur_(t)\n",
    "tau = Matrix([tauu,tauv,tauw,taup,tauq,taur])\n",
    "\n",
    "tauus,tauvs,tauws,taups,tauqs,taurs = symbols('\\overline{\\\\tau}_u \\overline{\\\\tau}_v \\overline{\\\\tau}_w \\overline{\\\\tau}_p \\overline{\\\\tau}_q \\overline{\\\\tau}_r', cls=Function)\n",
    "taus = Matrix([tauus,tauvs,tauws,taups,tauqs,taurs])\n",
    "\n",
    "us,vs,ws,ps,qs,rs = symbols('\\o{u} \\o{v} \\o{w} \\o{p} \\o{q} \\o{r}', constant=True)\n",
    "gamaas = Matrix([us,vs,ws,ps,qs,rs])\n",
    "\n",
    "Chi = Matrix([[phi,tta,psi]]).T\n",
    "dChi = diff(Chi,t)\n",
    "\n",
    "cN1, cN2, cN3, cN4, cN = symbols('c_{N1} c_{N2} c_{N3} c_{N4} c_{N}')\n",
    "cF1, cF2, cF3, cF4, cF = symbols('c_{F1} c_{F2} c_{F3} c_{F4} c_{F}')\n",
    "om1_, om2_, om3_, om4_ = symbols('\\omega_1 \\omega_2 \\omega_3 \\omega_4',cls=Function)\n",
    "om1, om2, om3, om4 = om1_(t), om2_(t), om3_(t), om4_(t)\n",
    "xpgE1, ypgE1, zpgE1 = symbols('{\\\\\\,}^x{\\\\!}p^g_{E1} {\\\\\\,}^y{\\\\!}p^g_{E1} {\\\\\\,}^z{\\\\!}p^g_{E1}')\n",
    "xpgE2, ypgE2, zpgE2 = symbols('{\\\\\\,}^x{\\\\!}p^g_{E2} {\\\\\\,}^y{\\\\!}p^g_{E2} {\\\\\\,}^z{\\\\!}p^g_{E2}')\n",
    "xpgE3, ypgE3, zpgE3 = symbols('{\\\\\\,}^x{\\\\!}p^g_{E3} {\\\\\\,}^y{\\\\!}p^g_{E3} {\\\\\\,}^z{\\\\!}p^g_{E3}')\n",
    "xpgE4, ypgE4, zpgE4 = symbols('{\\\\\\,}^x{\\\\!}p^g_{E4} {\\\\\\,}^y{\\\\!}p^g_{E4} {\\\\\\,}^z{\\\\!}p^g_{E4}')\n",
    "pgE1 = Matrix([xpgE1, ypgE1, zpgE1])\n",
    "pgE2 = Matrix([xpgE2, ypgE2, zpgE2])\n",
    "pgE3 = Matrix([xpgE3, ypgE3, zpgE3])\n",
    "pgE4 = Matrix([xpgE4, ypgE4, zpgE4])\n",
    "z_ax = Matrix([0,0,1])\n",
    "\n",
    "x_, y_, z_ = symbols('x y z',cls=Function)\n",
    "x, y, z = x_(t), y_(t), z_(t)\n",
    "xs, ys, zs = symbols('\\o{x} \\o{y} \\o{z}')\n",
    "phis, ttas, psis = symbols('\\o{\\phi} \\o{\\\\theta} \\o{\\psi}')\n",
    "om1s,om2s,om3s,om4s = symbols('\\o{\\omega}_1 \\o{\\omega}_2 \\o{\\omega}_3 \\o{\\omega}_4')\n",
    "\n",
    "xd,yd,zd,phid,ttad,psid = symbols('x_d y_d z_d \\phi_d \\\\theta_d \\psi_d')\n",
    "eta = Matrix([x,y,z,phi,tta,psi])\n",
    "dChi"
   ]
  },
  {
   "cell_type": "markdown",
   "metadata": {},
   "source": [
    "## Exercise 1:\n",
    "Look close to defined variables, try to figure out what is their meaning. Compare names of variables with equations of motion \n",
    "\n",
    "Display some variables using `display` function."
   ]
  },
  {
   "cell_type": "code",
   "execution_count": 3,
   "metadata": {},
   "outputs": [],
   "source": [
    "## your code here\n",
    "\n",
    "\n"
   ]
  },
  {
   "cell_type": "markdown",
   "metadata": {},
   "source": [
    "Now let define some helper functions:"
   ]
  },
  {
   "cell_type": "code",
   "execution_count": 4,
   "metadata": {},
   "outputs": [],
   "source": [
    "def log_results(func):\n",
    "    @functools.wraps(func)\n",
    "    def w_dec(*args, **kwargs):\n",
    "        res = func(*args, **kwargs)\n",
    "        t_old = -1 if len(w_dec.t) == 0 else w_dec.t[-1]\n",
    "        t_new = args[0]\n",
    "        if t_new > t_old:\n",
    "            w_dec.log.append(res)\n",
    "            w_dec.t.append(args[0])\n",
    "        else:\n",
    "            f = filter(lambda x: x >= t_new, w_dec.t)\n",
    "            idx = w_dec.t.index(next(f))\n",
    "            w_dec.log = w_dec.log[0:idx]+[res]\n",
    "            w_dec.t = w_dec.t[0:idx]+[t_new]\n",
    "        return res\n",
    "    w_dec.log = []\n",
    "    w_dec.t = []\n",
    "    return w_dec\n",
    "\n",
    "\n",
    "Sk = lambda v: Matrix([[0, -v[2], v[1]],[v[2], 0, -v[0]],[-v[1], v[0], 0]])\n",
    "\n",
    "def Rx(a):\n",
    "    return Matrix([[1,0,0],\n",
    "                  [0,cos(a),-sin(a)],\n",
    "                  [0,sin(a),cos(a)]])\n",
    "\n",
    "def Ry(a):\n",
    "    return Matrix([[cos(a),0,sin(a)],\n",
    "                  [0,1,0],\n",
    "                  [-sin(a),0,cos(a)]])\n",
    "\n",
    "def Rz(a):\n",
    "    return Matrix([[cos(a),-sin(a),0],\n",
    "                  [sin(a),cos(a),0],\n",
    "                  [0,0,1]])\n",
    "\n",
    "def Jac(R,dChi=dChi):\n",
    "    dR = (diff(R,t))\n",
    "    Sw = (R.T @ dR)\n",
    "    omsw = Matrix([[Sw[(2,1)]],[Sw[(0,2)]],[Sw[(1,0)]]])\n",
    "    iJ = simplify(omsw.jacobian(dChi))\n",
    "    J = simplify(iJ.inverse())\n",
    "    return J\n",
    "\n",
    "def plot_results(sim,ctrl,traj):\n",
    "    control = np.array([ctrl.log[ctrl.t.index(time)] for time in sim.t]).T\n",
    "    trajectory = np.array([traj.log[traj.t.index(time)] for time in sim.t]).T\n",
    "    fig1 = plt.figure()\n",
    "    ax1 = fig1.add_subplot(3,2,1)\n",
    "    ax1.plot(sim.t,sim.y[0],label='x')\n",
    "    ax1.plot(sim.t,sim.y[1],label='y')\n",
    "    ax1.plot(sim.t,sim.y[2],label='z')\n",
    "    ax1.legend(loc='best')\n",
    "    ax1 = fig1.add_subplot(3,2,2)\n",
    "    ax1.plot(sim.t,sim.y[3],label='$\\phi$')\n",
    "    ax1.plot(sim.t,sim.y[4],label='$\\\\theta$')\n",
    "    ax1.plot(sim.t,sim.y[5],label='$\\psi$')\n",
    "    ax1.legend(loc='best')\n",
    "    ax1 = fig1.add_subplot(3,2,3)\n",
    "    ax1.plot(sim.t,sim.y[6],label='$u$')\n",
    "    ax1.plot(sim.t,sim.y[7],label='$v$')\n",
    "    ax1.plot(sim.t,sim.y[8],label='$w$')\n",
    "    ax1.legend(loc='best')\n",
    "    ax1 = fig1.add_subplot(3,2,4)\n",
    "    ax1.plot(sim.t,sim.y[9],label='$p$')\n",
    "    ax1.plot(sim.t,sim.y[10],label='$q$')\n",
    "    ax1.plot(sim.t,sim.y[11],label='$r$')\n",
    "    ax1.legend(loc='best')\n",
    "    fig2 = plt.figure()\n",
    "    ax2 = fig2.add_subplot(1,1,1)\n",
    "    ax2.plot(sim.t,control[0],label='$\\omega_1$')\n",
    "    ax2.plot(sim.t,control[1],label='$\\omega_2$')\n",
    "    ax2.plot(sim.t,control[2],label='$\\omega_3$')\n",
    "    ax2.plot(sim.t,control[3],label='$\\omega_4$')\n",
    "    ax2.legend(loc='best')\n",
    "    fig3 = plt.figure()\n",
    "    ax3 = fig3.add_subplot(1,1,1)\n",
    "    ax3.plot(sim.t,sim.y[2]-trajectory[2],label='$z-z_d$')\n",
    "    ax3.plot(sim.t,sim.y[3]-trajectory[3],label='$\\phi-\\phi_d$')\n",
    "    ax3.plot(sim.t,sim.y[4]-trajectory[4],label='$\\\\theta-\\\\theta_d$')\n",
    "    ax3.plot(sim.t,sim.y[5]-trajectory[5],label='$\\psi-\\psi_d$')\n",
    "    ax3.legend(loc='best')"
   ]
  },
  {
   "cell_type": "markdown",
   "metadata": {},
   "source": [
    "Using [symbolic expression](https://www.sympy.org/en/index.html) let define componenets of the equations of motion, notice simplification of mass matrix $M$ and be patient:"
   ]
  },
  {
   "cell_type": "code",
   "execution_count": 5,
   "metadata": {},
   "outputs": [
    {
     "data": {
      "text/latex": [
       "$\\displaystyle \\left[\\begin{matrix}u{\\left(t \\right)}\\\\v{\\left(t \\right)}\\\\w{\\left(t \\right)}\\\\p{\\left(t \\right)}\\\\q{\\left(t \\right)}\\\\r{\\left(t \\right)}\\end{matrix}\\right]$"
      ],
      "text/plain": [
       "Matrix([\n",
       "[u(t)],\n",
       "[v(t)],\n",
       "[w(t)],\n",
       "[p(t)],\n",
       "[q(t)],\n",
       "[r(t)]])"
      ]
     },
     "execution_count": 5,
     "metadata": {},
     "output_type": "execute_result"
    }
   ],
   "source": [
    "Rba = (Rz(psi) @ Ry(tta) @ Rx(phi)) # RPY\n",
    "Rab = Rba.T\n",
    "Rba_num = lambdify((psi,tta,phi),Rba)\n",
    "Jba = Jac(Rba)\n",
    "Jab = simplify(Jba.inverse())\n",
    "Jba_num = lambdify((phi,tta),Jba)\n",
    "Eta = Rba.col_join(zeros(3)).row_join(zeros(3).col_join(Jba))\n",
    "iEta = simplify(Eta.inverse())\n",
    "iEta_num = lambdify((phi,tta,psi),iEta)\n",
    "Eta_num = lambdify((phi,tta,psi),Eta)\n",
    "dChi_num = lambdify((phi,tta,psi),dChi)\n",
    "I, nu, omaa, pag = diag(Ix,Iy,Iz), Matrix([u,v,w]), Matrix([p,q,r]), Matrix([xpag,ypag,zpag]) # inertia tensor, linear and angular velocities, vector of position of the center of gravity in the local frame\n",
    "M = (m*eye(3)).row_join(-m * Sk(pag)).col_join((m * Sk(pag)).row_join(I))\n",
    "# iM = simplify(M.inv()) # symbolic inversion of a matrix is very time consumming\n",
    "iM = simplify(M.subs({xpag:0,ypag:0,zpag:0}).inv())\n",
    "C = (m*Sk(omaa)).row_join(-m*Sk(omaa)*Sk(pag)).col_join((m*Sk(pag)*Sk(omaa)).row_join(-Sk(omaa)*I))\n",
    "# gravity\n",
    "Fbg = Matrix([0,0,-m*grav])\n",
    "Fag = Rab*Fbg\n",
    "Nag = Sk(pag)*Fag\n",
    "Gag = Fag.col_join(Nag)\n",
    "# bouyancy\n",
    "Fbv = Matrix([0,0,rho*grav*Vol])\n",
    "Fav = Rab*Fbv\n",
    "Nav = Sk(pav)*Fav\n",
    "Gav = Fav.col_join(Nav)\n",
    "# restoring forces\n",
    "Gar = Gag+Gav\n",
    "gamaa, sgamaa = nu.col_join(omaa), Matrix([sign(u),sign(v),sign(w),sign(p),sign(q),sign(r)])\n",
    "Cad = Matrix([[uCd,0,0,0,0,0],[0,vCd,0,0,0,0],[0,0,wCd,0,0,0],[0,0,0,pCd,0,0],[0,0,0,0,qCd,0],[0,0,0,0,0,rCd]])\n",
    "Cal = Matrix([[0,0,0,0,0,0],[0,0,0,0,0,0],[uCl,vCl,0,pCl,qCl,rCl],[0,0,0,0,0,0],[0,0,0,0,0,0],[0,0,0,0,0,0]])\n",
    "Gaa = -Cad * mme(sgamaa,mme(gamaa,gamaa)) + Cal * mme(gamaa,gamaa)\n",
    "\n",
    "gamaa"
   ]
  },
  {
   "cell_type": "markdown",
   "metadata": {},
   "source": [
    "## Exercise 2:\n",
    "\n",
    "Analyze each defined component and display them. Notice distinction in defining external forces."
   ]
  },
  {
   "cell_type": "code",
   "execution_count": 6,
   "metadata": {},
   "outputs": [
    {
     "data": {
      "text/latex": [
       "$\\displaystyle \\left[\\begin{matrix}g m \\sin{\\left(\\theta{\\left(t \\right)} \\right)}\\\\- g m \\sin{\\left(\\phi{\\left(t \\right)} \\right)} \\cos{\\left(\\theta{\\left(t \\right)} \\right)}\\\\- g m \\cos{\\left(\\phi{\\left(t \\right)} \\right)} \\cos{\\left(\\theta{\\left(t \\right)} \\right)}\\\\- g m {\\,}^y{\\!}p^a_g \\cos{\\left(\\phi{\\left(t \\right)} \\right)} \\cos{\\left(\\theta{\\left(t \\right)} \\right)} + g m {\\,}^z{\\!}p^a_g \\sin{\\left(\\phi{\\left(t \\right)} \\right)} \\cos{\\left(\\theta{\\left(t \\right)} \\right)}\\\\g m {\\,}^x{\\!}p^a_g \\cos{\\left(\\phi{\\left(t \\right)} \\right)} \\cos{\\left(\\theta{\\left(t \\right)} \\right)} + g m {\\,}^z{\\!}p^a_g \\sin{\\left(\\theta{\\left(t \\right)} \\right)}\\\\- g m {\\,}^x{\\!}p^a_g \\sin{\\left(\\phi{\\left(t \\right)} \\right)} \\cos{\\left(\\theta{\\left(t \\right)} \\right)} - g m {\\,}^y{\\!}p^a_g \\sin{\\left(\\theta{\\left(t \\right)} \\right)}\\end{matrix}\\right]$"
      ],
      "text/plain": [
       "Matrix([\n",
       "[                                                                                g*m*sin(\\theta(t))],\n",
       "[                                                                  -g*m*sin(\\phi(t))*cos(\\theta(t))],\n",
       "[                                                                  -g*m*cos(\\phi(t))*cos(\\theta(t))],\n",
       "[-g*m*{\\,}^y{\\!}p^a_g*cos(\\phi(t))*cos(\\theta(t)) + g*m*{\\,}^z{\\!}p^a_g*sin(\\phi(t))*cos(\\theta(t))],\n",
       "[              g*m*{\\,}^x{\\!}p^a_g*cos(\\phi(t))*cos(\\theta(t)) + g*m*{\\,}^z{\\!}p^a_g*sin(\\theta(t))],\n",
       "[             -g*m*{\\,}^x{\\!}p^a_g*sin(\\phi(t))*cos(\\theta(t)) - g*m*{\\,}^y{\\!}p^a_g*sin(\\theta(t))]])"
      ]
     },
     "execution_count": 6,
     "metadata": {},
     "output_type": "execute_result"
    }
   ],
   "source": [
    "## your code here\n",
    "\n",
    "Gag"
   ]
  },
  {
   "cell_type": "markdown",
   "metadata": {},
   "source": [
    "## Exercise 3:\n",
    "\n",
    "### Quadrotor actuation system\n",
    "\n",
    "<img src=\"./gfx/quadrotor2.svg\"/>\n",
    "\n",
    "The equation of the actuation system are:\n",
    "\n",
    "$$\\tau = \\BM {}^{u,v,w}\\tau \\\\ {}^{p,q,r}\\tau \\EBM= \\BM 0 \\\\ 0 \\\\ {}^w\\tau \\\\ {}^p\\tau \\\\{}^q\\tau \\\\{}^r\\tau \\EBM$$\n",
    "\n",
    "$$\n",
    "\\begin{align}\n",
    "{}^{u,v,w}\\tau &= \\sum{F_{E_i}}\\\\\n",
    "{}^{p,q,r}\\tau &= \\sum{S\\left(p^g_{E_i}\\right)F_{E_i}} + \\sum{N_{E_i}}\\\\\n",
    "N_{E_i} &= \\BM 0 & 0 -c_{N} \\omega_i\\EBM\\T \\\\\n",
    "F_{E_i} &= c_{F} \\omega_i \\BM 0 & 0 & 1 \\\\ \\EBM\\T\n",
    "\\end{align}\n",
    "$$\n",
    "\n",
    "Using already defined symbols define $\\tau$ for quadrotor as variable `tau_quad`. Remember about different directions of rotation of the opposite engines."
   ]
  },
  {
   "cell_type": "code",
   "execution_count": 7,
   "metadata": {},
   "outputs": [
    {
     "data": {
      "text/latex": [
       "$\\displaystyle \\left[\\begin{matrix}0\\\\0\\\\\\omega_{1}{\\left(t \\right)} - \\omega_{2}{\\left(t \\right)} + \\omega_{3}{\\left(t \\right)} - \\omega_{4}{\\left(t \\right)}\\\\c_{F} {\\,}^y{\\!}p^g_{E1} \\omega_{1}{\\left(t \\right)} + c_{F} {\\,}^y{\\!}p^g_{E2} \\omega_{2}{\\left(t \\right)} + c_{F} {\\,}^y{\\!}p^g_{E3} \\omega_{3}{\\left(t \\right)} + c_{F} {\\,}^y{\\!}p^g_{E4} \\omega_{4}{\\left(t \\right)}\\\\- c_{F} {\\,}^x{\\!}p^g_{E1} \\omega_{1}{\\left(t \\right)} - c_{F} {\\,}^x{\\!}p^g_{E2} \\omega_{2}{\\left(t \\right)} - c_{F} {\\,}^x{\\!}p^g_{E3} \\omega_{3}{\\left(t \\right)} - c_{F} {\\,}^x{\\!}p^g_{E4} \\omega_{4}{\\left(t \\right)}\\\\- c_{N} \\omega_{1}{\\left(t \\right)} - c_{N} \\omega_{2}{\\left(t \\right)} - c_{N} \\omega_{3}{\\left(t \\right)} - c_{N} \\omega_{4}{\\left(t \\right)}\\end{matrix}\\right]$"
      ],
      "text/plain": [
       "Matrix([\n",
       "[                                                                                                                                                         0],\n",
       "[                                                                                                                                                         0],\n",
       "[                                                                                                     \\omega_1(t) - \\omega_2(t) + \\omega_3(t) - \\omega_4(t)],\n",
       "[ c_{F}*{\\,}^y{\\!}p^g_{E1}*\\omega_1(t) + c_{F}*{\\,}^y{\\!}p^g_{E2}*\\omega_2(t) + c_{F}*{\\,}^y{\\!}p^g_{E3}*\\omega_3(t) + c_{F}*{\\,}^y{\\!}p^g_{E4}*\\omega_4(t)],\n",
       "[-c_{F}*{\\,}^x{\\!}p^g_{E1}*\\omega_1(t) - c_{F}*{\\,}^x{\\!}p^g_{E2}*\\omega_2(t) - c_{F}*{\\,}^x{\\!}p^g_{E3}*\\omega_3(t) - c_{F}*{\\,}^x{\\!}p^g_{E4}*\\omega_4(t)],\n",
       "[                                                                            -c_{N}*\\omega_1(t) - c_{N}*\\omega_2(t) - c_{N}*\\omega_3(t) - c_{N}*\\omega_4(t)]])"
      ]
     },
     "execution_count": 7,
     "metadata": {},
     "output_type": "execute_result"
    }
   ],
   "source": [
    "## your code here\n",
    "N_E = Matrix([[0],[0],[-(cN*om1 + cN*om2 + cN*om3 + cN*om4)]])\n",
    "F_E_1 = Matrix([[0],[0],[cF*om1]])\n",
    "F_E_2 = Matrix([[0],[0],[cF*om2]])\n",
    "F_E_3 = Matrix([[0],[0],[cF*om3]])\n",
    "F_E_4 = Matrix([[0],[0],[cF*om4]])\n",
    "tau_2 = (Sk(pgE1) @  F_E_1 + Sk(pgE2) @  F_E_2 + Sk(pgE3) @  F_E_3 + Sk(pgE4) @  F_E_4) + N_E\n",
    "tau_1 = Matrix([[0],[0],[om1 - om2 + om3 - om4]])\n",
    "\n",
    "tau_quad = tau_1.col_join(tau_2)\n",
    "tau_quad"
   ]
  },
  {
   "cell_type": "markdown",
   "metadata": {},
   "source": [
    "## Exercise 4:\n",
    "Define equations of kinematics and dynamics (use `simplify` function for simplification of the equations):"
   ]
  },
  {
   "cell_type": "code",
   "execution_count": 8,
   "metadata": {},
   "outputs": [
    {
     "data": {
      "text/latex": [
       "$\\displaystyle \\left[\\begin{matrix}\\left(\\sin{\\left(\\phi{\\left(t \\right)} \\right)} \\sin{\\left(\\psi{\\left(t \\right)} \\right)} + \\sin{\\left(\\theta{\\left(t \\right)} \\right)} \\cos{\\left(\\phi{\\left(t \\right)} \\right)} \\cos{\\left(\\psi{\\left(t \\right)} \\right)}\\right) w{\\left(t \\right)} + \\left(\\sin{\\left(\\phi{\\left(t \\right)} \\right)} \\sin{\\left(\\theta{\\left(t \\right)} \\right)} \\cos{\\left(\\psi{\\left(t \\right)} \\right)} - \\sin{\\left(\\psi{\\left(t \\right)} \\right)} \\cos{\\left(\\phi{\\left(t \\right)} \\right)}\\right) v{\\left(t \\right)} + u{\\left(t \\right)} \\cos{\\left(\\psi{\\left(t \\right)} \\right)} \\cos{\\left(\\theta{\\left(t \\right)} \\right)}\\\\\\left(- \\sin{\\left(\\phi{\\left(t \\right)} \\right)} \\cos{\\left(\\psi{\\left(t \\right)} \\right)} + \\sin{\\left(\\psi{\\left(t \\right)} \\right)} \\sin{\\left(\\theta{\\left(t \\right)} \\right)} \\cos{\\left(\\phi{\\left(t \\right)} \\right)}\\right) w{\\left(t \\right)} + \\left(\\sin{\\left(\\phi{\\left(t \\right)} \\right)} \\sin{\\left(\\psi{\\left(t \\right)} \\right)} \\sin{\\left(\\theta{\\left(t \\right)} \\right)} + \\cos{\\left(\\phi{\\left(t \\right)} \\right)} \\cos{\\left(\\psi{\\left(t \\right)} \\right)}\\right) v{\\left(t \\right)} + u{\\left(t \\right)} \\sin{\\left(\\psi{\\left(t \\right)} \\right)} \\cos{\\left(\\theta{\\left(t \\right)} \\right)}\\\\- u{\\left(t \\right)} \\sin{\\left(\\theta{\\left(t \\right)} \\right)} + v{\\left(t \\right)} \\sin{\\left(\\phi{\\left(t \\right)} \\right)} \\cos{\\left(\\theta{\\left(t \\right)} \\right)} + w{\\left(t \\right)} \\cos{\\left(\\phi{\\left(t \\right)} \\right)} \\cos{\\left(\\theta{\\left(t \\right)} \\right)}\\\\p{\\left(t \\right)} + q{\\left(t \\right)} \\sin{\\left(\\phi{\\left(t \\right)} \\right)} \\tan{\\left(\\theta{\\left(t \\right)} \\right)} + r{\\left(t \\right)} \\cos{\\left(\\phi{\\left(t \\right)} \\right)} \\tan{\\left(\\theta{\\left(t \\right)} \\right)}\\\\q{\\left(t \\right)} \\cos{\\left(\\phi{\\left(t \\right)} \\right)} - r{\\left(t \\right)} \\sin{\\left(\\phi{\\left(t \\right)} \\right)}\\\\\\frac{q{\\left(t \\right)} \\sin{\\left(\\phi{\\left(t \\right)} \\right)}}{\\cos{\\left(\\theta{\\left(t \\right)} \\right)}} + \\frac{r{\\left(t \\right)} \\cos{\\left(\\phi{\\left(t \\right)} \\right)}}{\\cos{\\left(\\theta{\\left(t \\right)} \\right)}}\\end{matrix}\\right]$"
      ],
      "text/plain": [
       "Matrix([\n",
       "[ (sin(\\phi(t))*sin(\\psi(t)) + sin(\\theta(t))*cos(\\phi(t))*cos(\\psi(t)))*w(t) + (sin(\\phi(t))*sin(\\theta(t))*cos(\\psi(t)) - sin(\\psi(t))*cos(\\phi(t)))*v(t) + u(t)*cos(\\psi(t))*cos(\\theta(t))],\n",
       "[(-sin(\\phi(t))*cos(\\psi(t)) + sin(\\psi(t))*sin(\\theta(t))*cos(\\phi(t)))*w(t) + (sin(\\phi(t))*sin(\\psi(t))*sin(\\theta(t)) + cos(\\phi(t))*cos(\\psi(t)))*v(t) + u(t)*sin(\\psi(t))*cos(\\theta(t))],\n",
       "[                                                                                                   -u(t)*sin(\\theta(t)) + v(t)*sin(\\phi(t))*cos(\\theta(t)) + w(t)*cos(\\phi(t))*cos(\\theta(t))],\n",
       "[                                                                                                                   p(t) + q(t)*sin(\\phi(t))*tan(\\theta(t)) + r(t)*cos(\\phi(t))*tan(\\theta(t))],\n",
       "[                                                                                                                                                        q(t)*cos(\\phi(t)) - r(t)*sin(\\phi(t))],\n",
       "[                                                                                                                          q(t)*sin(\\phi(t))/cos(\\theta(t)) + r(t)*cos(\\phi(t))/cos(\\theta(t))]])"
      ]
     },
     "execution_count": 8,
     "metadata": {},
     "output_type": "execute_result"
    }
   ],
   "source": [
    "## your code here\n",
    "\n",
    "Kin = Eta@ gamaa\n",
    "\n",
    "Dyn = iM @(tau_quad + Gar + Gaa  - (C @ gamaa ))\n",
    "diff_state = Kin.col_join(Dyn)\n",
    "Kin1 = lambdify((phi,tta,psi,p,q,r,u,v,w),Kin)\n",
    "Kin"
   ]
  },
  {
   "cell_type": "markdown",
   "metadata": {},
   "source": [
    "Display final differential equation:\n"
   ]
  },
  {
   "cell_type": "code",
   "execution_count": 9,
   "metadata": {},
   "outputs": [
    {
     "data": {
      "text/plain": [
       "(12, 1)"
      ]
     },
     "execution_count": 9,
     "metadata": {},
     "output_type": "execute_result"
    }
   ],
   "source": [
    "(diff_state.shape)"
   ]
  },
  {
   "cell_type": "markdown",
   "metadata": {},
   "source": [
    "### Define parameters of the quadrotor:\n"
   ]
  },
  {
   "cell_type": "code",
   "execution_count": 10,
   "metadata": {},
   "outputs": [
    {
     "data": {
      "text/latex": [
       "$\\displaystyle \\left[\\begin{matrix}0 & 0 & 0 & 0\\\\0 & 0 & 0 & 0\\\\0 & 0 & 0 & 0\\\\0 & 0 & 0 & 0\\\\0 & 0 & 0 & 0\\\\0 & 0 & 0 & 0\\\\0 & 0 & 0 & 0\\\\0 & 0 & 0 & 0\\\\\\frac{1}{m} & - \\frac{1}{m} & \\frac{1}{m} & - \\frac{1}{m}\\\\\\frac{c_{F} {\\,}^y{\\!}p^g_{E1}}{I_{x}} & \\frac{c_{F} {\\,}^y{\\!}p^g_{E2}}{I_{x}} & \\frac{c_{F} {\\,}^y{\\!}p^g_{E3}}{I_{x}} & \\frac{c_{F} {\\,}^y{\\!}p^g_{E4}}{I_{x}}\\\\- \\frac{c_{F} {\\,}^x{\\!}p^g_{E1}}{I_{y}} & - \\frac{c_{F} {\\,}^x{\\!}p^g_{E2}}{I_{y}} & - \\frac{c_{F} {\\,}^x{\\!}p^g_{E3}}{I_{y}} & - \\frac{c_{F} {\\,}^x{\\!}p^g_{E4}}{I_{y}}\\\\- \\frac{c_{N}}{I_{z}} & - \\frac{c_{N}}{I_{z}} & - \\frac{c_{N}}{I_{z}} & - \\frac{c_{N}}{I_{z}}\\end{matrix}\\right]$"
      ],
      "text/plain": [
       "Matrix([\n",
       "[                            0,                             0,                             0,                             0],\n",
       "[                            0,                             0,                             0,                             0],\n",
       "[                            0,                             0,                             0,                             0],\n",
       "[                            0,                             0,                             0,                             0],\n",
       "[                            0,                             0,                             0,                             0],\n",
       "[                            0,                             0,                             0,                             0],\n",
       "[                            0,                             0,                             0,                             0],\n",
       "[                            0,                             0,                             0,                             0],\n",
       "[                          1/m,                          -1/m,                           1/m,                          -1/m],\n",
       "[ c_{F}*{\\,}^y{\\!}p^g_{E1}/I_x,  c_{F}*{\\,}^y{\\!}p^g_{E2}/I_x,  c_{F}*{\\,}^y{\\!}p^g_{E3}/I_x,  c_{F}*{\\,}^y{\\!}p^g_{E4}/I_x],\n",
       "[-c_{F}*{\\,}^x{\\!}p^g_{E1}/I_y, -c_{F}*{\\,}^x{\\!}p^g_{E2}/I_y, -c_{F}*{\\,}^x{\\!}p^g_{E3}/I_y, -c_{F}*{\\,}^x{\\!}p^g_{E4}/I_y],\n",
       "[                   -c_{N}/I_z,                    -c_{N}/I_z,                    -c_{N}/I_z,                    -c_{N}/I_z]])"
      ]
     },
     "execution_count": 10,
     "metadata": {},
     "output_type": "execute_result"
    }
   ],
   "source": [
    "params = {xs:0,ys:0,zs:0,phis:0,ttas:0,psis:0,us:0,vs:0,ws:0,ps:0,qs:0,rs:0}\n",
    "params.update({uCd:0.01,vCd:0.01,wCd:0.01,pCd:0.01,qCd:0.01,rCd:0.01})\n",
    "params.update({uCl:0.0,vCl:0.0,pCl:0.0,qCl:0.0,rCl:0.0})\n",
    "params.update({Vol:0,rho:0,grav:9.81,m:1,Ix:0.1,Iy:0.1,Iz:0.1})\n",
    "params.update({xpag:0,ypag:0,zpag:0})\n",
    "params.update({cF:0.01,cN:0.001})\n",
    "arm_len = 0.2\n",
    "params.update({xpgE1:arm_len,ypgE1:0,zpgE1:0})\n",
    "params.update({xpgE2:0,ypgE2:arm_len,zpgE2:0})\n",
    "params.update({xpgE3:-arm_len,ypgE3:0,zpgE3:0})\n",
    "params.update({xpgE4:0,ypgE4:-arm_len,zpgE4:0})\n",
    "B = diff_state.jacobian(Matrix([om1,om2,om3,om4]))\n",
    "B"
   ]
  },
  {
   "cell_type": "markdown",
   "metadata": {},
   "source": [
    "### Define functions for numerical calculations:"
   ]
  },
  {
   "cell_type": "code",
   "execution_count": 11,
   "metadata": {},
   "outputs": [
    {
     "data": {
      "text/latex": [
       "$\\displaystyle \\phi{\\left(t \\right)}$"
      ],
      "text/plain": [
       "\\phi(t)"
      ]
     },
     "metadata": {},
     "output_type": "display_data"
    },
    {
     "data": {
      "text/latex": [
       "$\\displaystyle \\theta{\\left(t \\right)}$"
      ],
      "text/plain": [
       "\\theta(t)"
      ]
     },
     "metadata": {},
     "output_type": "display_data"
    },
    {
     "data": {
      "text/latex": [
       "$\\displaystyle \\psi{\\left(t \\right)}$"
      ],
      "text/plain": [
       "\\psi(t)"
      ]
     },
     "metadata": {},
     "output_type": "display_data"
    },
    {
     "data": {
      "text/latex": [
       "$\\displaystyle u{\\left(t \\right)}$"
      ],
      "text/plain": [
       "u(t)"
      ]
     },
     "metadata": {},
     "output_type": "display_data"
    },
    {
     "data": {
      "text/latex": [
       "$\\displaystyle v{\\left(t \\right)}$"
      ],
      "text/plain": [
       "v(t)"
      ]
     },
     "metadata": {},
     "output_type": "display_data"
    },
    {
     "data": {
      "text/latex": [
       "$\\displaystyle w{\\left(t \\right)}$"
      ],
      "text/plain": [
       "w(t)"
      ]
     },
     "metadata": {},
     "output_type": "display_data"
    },
    {
     "data": {
      "text/latex": [
       "$\\displaystyle p{\\left(t \\right)}$"
      ],
      "text/plain": [
       "p(t)"
      ]
     },
     "metadata": {},
     "output_type": "display_data"
    },
    {
     "data": {
      "text/latex": [
       "$\\displaystyle q{\\left(t \\right)}$"
      ],
      "text/plain": [
       "q(t)"
      ]
     },
     "metadata": {},
     "output_type": "display_data"
    },
    {
     "data": {
      "text/latex": [
       "$\\displaystyle r{\\left(t \\right)}$"
      ],
      "text/plain": [
       "r(t)"
      ]
     },
     "metadata": {},
     "output_type": "display_data"
    },
    {
     "data": {
      "text/latex": [
       "$\\displaystyle \\omega_{1}{\\left(t \\right)}$"
      ],
      "text/plain": [
       "\\omega_1(t)"
      ]
     },
     "metadata": {},
     "output_type": "display_data"
    },
    {
     "data": {
      "text/latex": [
       "$\\displaystyle \\omega_{2}{\\left(t \\right)}$"
      ],
      "text/plain": [
       "\\omega_2(t)"
      ]
     },
     "metadata": {},
     "output_type": "display_data"
    },
    {
     "data": {
      "text/latex": [
       "$\\displaystyle \\omega_{3}{\\left(t \\right)}$"
      ],
      "text/plain": [
       "\\omega_3(t)"
      ]
     },
     "metadata": {},
     "output_type": "display_data"
    },
    {
     "data": {
      "text/latex": [
       "$\\displaystyle \\omega_{4}{\\left(t \\right)}$"
      ],
      "text/plain": [
       "\\omega_4(t)"
      ]
     },
     "metadata": {},
     "output_type": "display_data"
    },
    {
     "data": {
      "text/latex": [
       "$\\displaystyle \\left[\\begin{matrix}\\left(\\sin{\\left(\\phi{\\left(t \\right)} \\right)} \\sin{\\left(\\psi{\\left(t \\right)} \\right)} + \\sin{\\left(\\theta{\\left(t \\right)} \\right)} \\cos{\\left(\\phi{\\left(t \\right)} \\right)} \\cos{\\left(\\psi{\\left(t \\right)} \\right)}\\right) w{\\left(t \\right)} + \\left(\\sin{\\left(\\phi{\\left(t \\right)} \\right)} \\sin{\\left(\\theta{\\left(t \\right)} \\right)} \\cos{\\left(\\psi{\\left(t \\right)} \\right)} - \\sin{\\left(\\psi{\\left(t \\right)} \\right)} \\cos{\\left(\\phi{\\left(t \\right)} \\right)}\\right) v{\\left(t \\right)} + u{\\left(t \\right)} \\cos{\\left(\\psi{\\left(t \\right)} \\right)} \\cos{\\left(\\theta{\\left(t \\right)} \\right)}\\\\\\left(- \\sin{\\left(\\phi{\\left(t \\right)} \\right)} \\cos{\\left(\\psi{\\left(t \\right)} \\right)} + \\sin{\\left(\\psi{\\left(t \\right)} \\right)} \\sin{\\left(\\theta{\\left(t \\right)} \\right)} \\cos{\\left(\\phi{\\left(t \\right)} \\right)}\\right) w{\\left(t \\right)} + \\left(\\sin{\\left(\\phi{\\left(t \\right)} \\right)} \\sin{\\left(\\psi{\\left(t \\right)} \\right)} \\sin{\\left(\\theta{\\left(t \\right)} \\right)} + \\cos{\\left(\\phi{\\left(t \\right)} \\right)} \\cos{\\left(\\psi{\\left(t \\right)} \\right)}\\right) v{\\left(t \\right)} + u{\\left(t \\right)} \\sin{\\left(\\psi{\\left(t \\right)} \\right)} \\cos{\\left(\\theta{\\left(t \\right)} \\right)}\\\\- u{\\left(t \\right)} \\sin{\\left(\\theta{\\left(t \\right)} \\right)} + v{\\left(t \\right)} \\sin{\\left(\\phi{\\left(t \\right)} \\right)} \\cos{\\left(\\theta{\\left(t \\right)} \\right)} + w{\\left(t \\right)} \\cos{\\left(\\phi{\\left(t \\right)} \\right)} \\cos{\\left(\\theta{\\left(t \\right)} \\right)}\\\\p{\\left(t \\right)} + q{\\left(t \\right)} \\sin{\\left(\\phi{\\left(t \\right)} \\right)} \\tan{\\left(\\theta{\\left(t \\right)} \\right)} + r{\\left(t \\right)} \\cos{\\left(\\phi{\\left(t \\right)} \\right)} \\tan{\\left(\\theta{\\left(t \\right)} \\right)}\\\\q{\\left(t \\right)} \\cos{\\left(\\phi{\\left(t \\right)} \\right)} - r{\\left(t \\right)} \\sin{\\left(\\phi{\\left(t \\right)} \\right)}\\\\\\frac{q{\\left(t \\right)} \\sin{\\left(\\phi{\\left(t \\right)} \\right)}}{\\cos{\\left(\\theta{\\left(t \\right)} \\right)}} + \\frac{r{\\left(t \\right)} \\cos{\\left(\\phi{\\left(t \\right)} \\right)}}{\\cos{\\left(\\theta{\\left(t \\right)} \\right)}}\\\\- q{\\left(t \\right)} w{\\left(t \\right)} + r{\\left(t \\right)} v{\\left(t \\right)} - 0.01 u^{2}{\\left(t \\right)} \\operatorname{sign}{\\left(u{\\left(t \\right)} \\right)} + 9.81 \\sin{\\left(\\theta{\\left(t \\right)} \\right)}\\\\p{\\left(t \\right)} w{\\left(t \\right)} - r{\\left(t \\right)} u{\\left(t \\right)} - 0.01 v^{2}{\\left(t \\right)} \\operatorname{sign}{\\left(v{\\left(t \\right)} \\right)} - 9.81 \\sin{\\left(\\phi{\\left(t \\right)} \\right)} \\cos{\\left(\\theta{\\left(t \\right)} \\right)}\\\\\\omega_{1}{\\left(t \\right)} - \\omega_{2}{\\left(t \\right)} + \\omega_{3}{\\left(t \\right)} - \\omega_{4}{\\left(t \\right)} - p{\\left(t \\right)} v{\\left(t \\right)} + q{\\left(t \\right)} u{\\left(t \\right)} - 0.01 w^{2}{\\left(t \\right)} \\operatorname{sign}{\\left(w{\\left(t \\right)} \\right)} - 9.81 \\cos{\\left(\\phi{\\left(t \\right)} \\right)} \\cos{\\left(\\theta{\\left(t \\right)} \\right)}\\\\0.02 \\omega_{2}{\\left(t \\right)} - 0.02 \\omega_{4}{\\left(t \\right)} - 0.1 p^{2}{\\left(t \\right)} \\operatorname{sign}{\\left(p{\\left(t \\right)} \\right)}\\\\- 0.02 \\omega_{1}{\\left(t \\right)} + 0.02 \\omega_{3}{\\left(t \\right)} - 0.1 q^{2}{\\left(t \\right)} \\operatorname{sign}{\\left(q{\\left(t \\right)} \\right)}\\\\- 0.01 \\omega_{1}{\\left(t \\right)} - 0.01 \\omega_{2}{\\left(t \\right)} - 0.01 \\omega_{3}{\\left(t \\right)} - 0.01 \\omega_{4}{\\left(t \\right)} - 0.1 r^{2}{\\left(t \\right)} \\operatorname{sign}{\\left(r{\\left(t \\right)} \\right)}\\end{matrix}\\right]$"
      ],
      "text/plain": [
       "Matrix([\n",
       "[ (sin(\\phi(t))*sin(\\psi(t)) + sin(\\theta(t))*cos(\\phi(t))*cos(\\psi(t)))*w(t) + (sin(\\phi(t))*sin(\\theta(t))*cos(\\psi(t)) - sin(\\psi(t))*cos(\\phi(t)))*v(t) + u(t)*cos(\\psi(t))*cos(\\theta(t))],\n",
       "[(-sin(\\phi(t))*cos(\\psi(t)) + sin(\\psi(t))*sin(\\theta(t))*cos(\\phi(t)))*w(t) + (sin(\\phi(t))*sin(\\psi(t))*sin(\\theta(t)) + cos(\\phi(t))*cos(\\psi(t)))*v(t) + u(t)*sin(\\psi(t))*cos(\\theta(t))],\n",
       "[                                                                                                   -u(t)*sin(\\theta(t)) + v(t)*sin(\\phi(t))*cos(\\theta(t)) + w(t)*cos(\\phi(t))*cos(\\theta(t))],\n",
       "[                                                                                                                   p(t) + q(t)*sin(\\phi(t))*tan(\\theta(t)) + r(t)*cos(\\phi(t))*tan(\\theta(t))],\n",
       "[                                                                                                                                                        q(t)*cos(\\phi(t)) - r(t)*sin(\\phi(t))],\n",
       "[                                                                                                                          q(t)*sin(\\phi(t))/cos(\\theta(t)) + r(t)*cos(\\phi(t))/cos(\\theta(t))],\n",
       "[                                                                                                                       -q(t)*w(t) + r(t)*v(t) - 0.01*u(t)**2*sign(u(t)) + 9.81*sin(\\theta(t))],\n",
       "[                                                                                                           p(t)*w(t) - r(t)*u(t) - 0.01*v(t)**2*sign(v(t)) - 9.81*sin(\\phi(t))*cos(\\theta(t))],\n",
       "[                                                   \\omega_1(t) - \\omega_2(t) + \\omega_3(t) - \\omega_4(t) - p(t)*v(t) + q(t)*u(t) - 0.01*w(t)**2*sign(w(t)) - 9.81*cos(\\phi(t))*cos(\\theta(t))],\n",
       "[                                                                                                                                 0.02*\\omega_2(t) - 0.02*\\omega_4(t) - 0.1*p(t)**2*sign(p(t))],\n",
       "[                                                                                                                                -0.02*\\omega_1(t) + 0.02*\\omega_3(t) - 0.1*q(t)**2*sign(q(t))],\n",
       "[                                                                                          -0.01*\\omega_1(t) - 0.01*\\omega_2(t) - 0.01*\\omega_3(t) - 0.01*\\omega_4(t) - 0.1*r(t)**2*sign(r(t))]])"
      ]
     },
     "execution_count": 11,
     "metadata": {},
     "output_type": "execute_result"
    }
   ],
   "source": [
    "display(phi,tta,psi,u,v,w,p,q,r,om1,om2,om3,om4)\n",
    "diff_state.subs(params)\n"
   ]
  },
  {
   "cell_type": "code",
   "execution_count": 12,
   "metadata": {},
   "outputs": [
    {
     "name": "stdout",
     "output_type": "stream",
     "text": [
      "Matrix([[0.250000000000000, 0, -25.0000000000000, -25.0000000000000], [-0.250000000000000, 25.0000000000000, 0, -25.0000000000000], [0.250000000000000, 0, 25.0000000000000, -25.0000000000000], [-0.250000000000000, -25.0000000000000, 0, -25.0000000000000]])\n"
     ]
    },
    {
     "data": {
      "text/plain": [
       "sympy.matrices.immutable.ImmutableDenseMatrix"
      ]
     },
     "execution_count": 12,
     "metadata": {},
     "output_type": "execute_result"
    }
   ],
   "source": [
    "F_num = lambdify((phi,tta,psi,u,v,w,p,q,r,om1,om2,om3,om4),diff_state.subs(params))\n",
    "M_num = M.subs(params)\n",
    "G_num = lambdify((phi,tta,u,v,w,p,q,r),(Gar+Gaa).subs(params))\n",
    "C_num = lambdify((p,q,r),C.subs(params))\n",
    "Eta_num = lambdify((phi,tta,psi),Eta)\n",
    "iB_num = B.subs(params)[8:12,0:4].inv()\n",
    "#Gar+Gaa\n",
    "print(iB_num)\n",
    "type(iB_num)"
   ]
  },
  {
   "cell_type": "code",
   "execution_count": null,
   "metadata": {},
   "outputs": [],
   "source": []
  },
  {
   "cell_type": "markdown",
   "metadata": {},
   "source": [
    "### Define numerical model of quadrotor and trajectory generator:"
   ]
  },
  {
   "cell_type": "code",
   "execution_count": 13,
   "metadata": {},
   "outputs": [],
   "source": [
    "def quadrotor(t,state):\n",
    "    tr = traj(t,state)\n",
    "    engines_omega = ctrl(t,state,tr)\n",
    "    x,y,z,phi,tta,psi,u,v,w,p,q,r = state\n",
    "    om1,om2,om3,om4 = engines_omega\n",
    "    diff_state = np.ndarray.tolist(F_num(phi,tta,psi,u,v,w,p,q,r,om1,om2,om3,om4).T)[0]\n",
    "    return diff_state"
   ]
  },
  {
   "cell_type": "code",
   "execution_count": 91,
   "metadata": {},
   "outputs": [],
   "source": [
    "@log_results\n",
    "def traj(t,state):\n",
    "    xd = 0\n",
    "    yd = 0\n",
    "    zd = 15\n",
    "    phid = 0\n",
    "    ttad = 0.1\n",
    "    psid = 1\n",
    "    ud = 0\n",
    "    vd = 0\n",
    "    wd = 0\n",
    "    pd = 0\n",
    "    qd = 0\n",
    "    rd = 0\n",
    "    traj = [xd,yd,zd,phid,ttad,psid,ud,vd,wd,pd,qd,rd]\n",
    "    return traj"
   ]
  },
  {
   "cell_type": "markdown",
   "metadata": {},
   "source": [
    "## Exercise 5:\n",
    "\n",
    "Define controller for altitute and pose stabilisation.\n",
    "Let start with equation of motion reminder:\n",
    "\n",
    "$$\n",
    "\\begin{align}\n",
    "\\dpba &= \\Rba \\nuaa \\\\\n",
    "\\dot{\\chi} &= J \\omaa \\\\\n",
    "\\dot{\\eta} &= \\BM \\dpba \\\\ \\dot{\\chi} \\EBM \\\\\n",
    "H &=\\BM \\Rba & 0 \\\\ 0 & J\\EBM \\\\\n",
    "\\dot{\\eta} &= H \\gamaa\\\\\n",
    "\\dgamaa &= M^{-1} \\left(\\tau +\\Gamma - C \\gamaa \\right)\n",
    "\\end{align}\n",
    "$$\n",
    "\n",
    "### Control objective:\n",
    "Stabilize $z,\\phi,\\theta,\\psi$, notice, that as a consequance the quadrotor will achive constatnt linear velocities for non-zero $\\phi$ and $\\theta$.\n",
    "\n",
    "### Constraints\n",
    "\n",
    "The controller can generate only four control signals. Desired accelerations in $x$ and $y$ axes in the local frame ($\\dot{u},\\dot{v}$) need to be equal to zero, because of the form of $\\tau$.\n",
    "\n",
    "### Kinematics controller\n",
    "\n",
    "<img src=\"./gfx/vectors_error.svg\" style='height:200px'/>\n",
    "\n",
    "$$\n",
    "\\begin{align}\n",
    "e &= \\eta_d - \\eta \\\\\n",
    "\\dot{e} &= \\dot{\\eta}_d - \\dot{\\eta} \\\\\n",
    "\\eta_d & \\triangleq const \\\\\n",
    "\\dot{e} &= - \\dot{\\eta} \\\\\n",
    "\\end{align}\n",
    "$$\n",
    "\n",
    "#### Control law for kinematcs\n",
    "$$\n",
    "\\begin{align}\n",
    "\\dot{\\eta} &= K_{kin} e \\\\\n",
    "\\dot{e} &= - K_{kin} e\n",
    "\\end{align}\n",
    "$$\n",
    "\n",
    "From the kinematic equation:\n",
    "$$\n",
    "\\gamaa_d = H^{-1} \\dot{\\eta}\n",
    "$$\n",
    "\n",
    "### Dynamics controller\n",
    "\n",
    "$$\n",
    "\\begin{align}\n",
    "e_\\gamma &= \\gamaa_d - \\gamaa\\\\\n",
    "\\dot{e}_\\gamma &= \\dgamaa_d - \\dgamaa \\\\\n",
    "\\gamaa_d &\\triangleq const \\\\\n",
    "\\dot{e}_\\gamma &= - \\dgamaa \\\\\n",
    "\\end{align}\n",
    "$$\n",
    "\n",
    "#### Control law for dynamics\n",
    "\n",
    "$$\n",
    "\\begin{align}\n",
    "\\tau &= M K_{dyn} e_\\gamma  - \\Gamma + C \\gamaa \\\\\n",
    "\\dgamaa &= M^{-1} \\left(M K_{dyn} e_\\gamma - \\Gamma + C \\gamaa  +\\Gamma - C \\gamaa \\right) \\\\\n",
    "\\dgamaa &= M^{-1} M  K_{dyn} e_\\gamma \\\\\n",
    "\\dgamaa &=  K_{dyn} e_\\gamma \\\\\n",
    "\\dot{e}_\\gamma &= -K_{dyn} e_\\gamma\n",
    "\\end{align}\n",
    "$$\n",
    "\n",
    "Because of the constraints in actuation system the control objective do not consider positions in $X$ and $Y$ axes. Main consequance of that are the following assumtions:\n",
    "$$\n",
    "\\begin{align}\n",
    "\\xpba {}_d &= \\xpba \\\\\n",
    "\\ypba {}_d &= \\ypba.\n",
    "\\end{align}\n",
    "$$ \n",
    "Also the velocities $u$ and $v$ are not controlled directly (!), hence the rotational velocities of the engines can be calculated using inverse of the part of the input matrix $B$, where:\n",
    "$$\n",
    "\\begin{align}\n",
    "\\tau = B \\BM \\omega_1 \\\\ \\omega_2 \\\\ \\omega_3 \\\\ \\omega_4 \\EBM\n",
    "\\end{align}\n",
    "$$\n",
    "Such case can be practicly used for remote control of quadrotors. "
   ]
  },
  {
   "cell_type": "code",
   "execution_count": 92,
   "metadata": {},
   "outputs": [],
   "source": [
    "@log_results\n",
    "def ctrl(t,state,traj):\n",
    "    x,y,z,phi,tta,psi,u,v,w,p,q,r = state\n",
    "    gamaa = Matrix([u,v,w,p,q,r])\n",
    "    xd,yd,zd,phid,ttad,psid,ud,vd,wd,pd,qd,rd = traj\n",
    "    Mn = M_num\n",
    "    Gn = G_num(phi,tta,u,v,w,p,q,r)\n",
    "    Cn = C_num(p,q,r)\n",
    "    Etan = Eta_num(phi,tta,psi)\n",
    "    #Jba_num_1 = Jba_num(phi,tta)\n",
    "    iBn = iB_num\n",
    "    kin_num = Kin1(phi,tta,psi,u,v,w,p,q,r)\n",
    "#############################################################\n",
    "    \"\"\"\"\n",
    "    pab_dot = np.array(Rab_num(psi,tta,phi)) @ np.array([gamaa[0:3]]).T\n",
    "    x_dot = np.array(Jab_num(tta,phi)) @ np.array([gamaa[3:6]]).T\n",
    "    nee_dot = np.vstack((pab_dot,x_dot))\n",
    "    \"\"\"\n",
    "    ## your code here\n",
    "    Kdyn =  6*np.eye(6)\n",
    "    Kkin =  6*np.eye(6)\n",
    "    statemat = np.array([state])\n",
    "    trajmat = np.array([traj])\n",
    "    sub = np.subtract(trajmat,statemat)\n",
    "    \n",
    "    #e_gamaa = np.array([sub[0][6:12]]).T # for the tau\n",
    "    \n",
    "    nee_d = Matrix([[x],[y],[zd],[phid],[ttad],[psid]])\n",
    "    nee =  Matrix([[x],[y],[z],[phi],[tta],[psi]])\n",
    "    e = nee_d - nee\n",
    "    #print(e)\n",
    "    nee_dot = Kkin @ e\n",
    "    #############################################\n",
    "    #chi_num = Jba_num(phi,tta) @ Matrix([gamaa[3:6]]).T\n",
    "    #Pba_dot = Rba_num(psi,tta,phi) @ Matrix([gamaa[0:3]]).T\n",
    "    #nee_dot  = Matrix([[0],[0],[Pba_dot[2]],[chi_num[0]],[chi_num[1]],[chi_num[2]]])\n",
    "    ##########################################\n",
    "    \n",
    "    #nee_dot =  Matrix([[0],[0],[kin_num[2]],[kin_num[3]],[kin_num[4]],[kin_num[5]]])\n",
    "    #############################################\n",
    "    gammad = iEta_num(phi,tta,psi) @ nee_dot\n",
    "    gammad_new = Matrix([gammad[0],gammad[1],gammad[2],gammad[3],gammad[4],gammad[5]])\n",
    "    e_gamma = gammad_new - gamaa\n",
    "    tau = np.array(Mn@Kdyn@ e_gamma - Gn + Cn@gamaa)\n",
    "    engines_omega = iBn@tau[2:6]\n",
    "    return engines_omega\n"
   ]
  },
  {
   "cell_type": "code",
   "execution_count": 93,
   "metadata": {},
   "outputs": [
    {
     "data": {
      "text/latex": [
       "$\\displaystyle \\left[\\begin{matrix}-772.36133497606\\\\-614.729739411433\\\\-601.293898820748\\\\-614.729739411433\\end{matrix}\\right]$"
      ],
      "text/plain": [
       "Matrix([\n",
       "[ -772.36133497606],\n",
       "[-614.729739411433],\n",
       "[-601.293898820748],\n",
       "[-614.729739411433]])"
      ]
     },
     "execution_count": 93,
     "metadata": {},
     "output_type": "execute_result"
    }
   ],
   "source": [
    "ctrl(4,[1,2,0,4,0,6,7,8,9,0,2,3],[1,2,3,4,5,0,7,8,9,0,2,0])"
   ]
  },
  {
   "cell_type": "markdown",
   "metadata": {},
   "source": [
    "## Exerciese 6:\n",
    "Perform simulations for different trajectories and initial state. Analyze the results."
   ]
  },
  {
   "cell_type": "code",
   "execution_count": 94,
   "metadata": {},
   "outputs": [
    {
     "data": {
      "image/png": "[encoded data removed]",
      "text/plain": [
       "<Figure size 432x288 with 4 Axes>"
      ]
     },
     "metadata": {
      "needs_background": "light"
     },
     "output_type": "display_data"
    },
    {
     "data": {
      "image/png": "[encoded data removed]",
      "text/plain": [
       "<Figure size 432x288 with 1 Axes>"
      ]
     },
     "metadata": {
      "needs_background": "light"
     },
     "output_type": "display_data"
    },
    {
     "data": {
      "image/png": "[encoded data removed]",
      "text/plain": [
       "<Figure size 432x288 with 1 Axes>"
      ]
     },
     "metadata": {
      "needs_background": "light"
     },
     "output_type": "display_data"
    }
   ],
   "source": [
    "state0 = [0,0,3,0.1,0.2,-0.3,0,0,0,0,0,0]\n",
    "ctrl(0,state0,traj(0,state0))\n",
    "sim = solve_ivp(quadrotor,[0,40],state0,max_step=1)\n",
    "plot_results(sim,ctrl,traj)    "
   ]
  },
  {
   "cell_type": "code",
   "execution_count": null,
   "metadata": {},
   "outputs": [],
   "source": []
  },
  {
   "cell_type": "code",
   "execution_count": null,
   "metadata": {},
   "outputs": [],
   "source": []
  },
  {
   "cell_type": "code",
   "execution_count": null,
   "metadata": {},
   "outputs": [],
   "source": []
  },
  {
   "cell_type": "code",
   "execution_count": null,
   "metadata": {},
   "outputs": [],
   "source": []
  }
 ],
 "metadata": {
  "kernelspec": {
   "display_name": "Python 3",
   "language": "python",
   "name": "python3"
  },
  "language_info": {
   "codemirror_mode": {
    "name": "ipython",
    "version": 3
   },
   "file_extension": ".py",
   "mimetype": "text/x-python",
   "name": "python",
   "nbconvert_exporter": "python",
   "pygments_lexer": "ipython3",
   "version": "3.7.3"
  }
 },
 "nbformat": 4,
 "nbformat_minor": 2
}
