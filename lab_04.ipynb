{
 "cells": [
  {
   "cell_type": "markdown",
   "metadata": {},
   "source": [
    "$$\n",
    "\\LaTeX macros\n",
    "\\newcommand{\\pba}{{p^b_a}}\n",
    "\\newcommand{\\de}{{\\dot{e}}}\n",
    "\\newcommand{\\dde}{{\\ddot{e}}}\n",
    "\\newcommand{\\pbd}{{p^b_d}}\n",
    "\\newcommand{\\dpba}{{\\dot{p}^b_a}}\n",
    "\\newcommand{\\ddpba}{{\\ddot{p}^b_a}}\n",
    "\\newcommand{\\dpbd}{{\\dot{p}^b_d}}\n",
    "\\newcommand{\\ddpbd}{{\\ddot{p}^b_d}}\n",
    "\\newcommand{\\pag}{{p^a_g}}\n",
    "\\newcommand{\\pav}{{p^a_v}}\n",
    "\\newcommand{\\dpag}{{\\dot{p}^a_g}}\n",
    "\\newcommand{\\pai}{{p^a_i}}\n",
    "\\newcommand{\\dpai}{{\\dot{p}^a_i}}\n",
    "\\newcommand{\\pbg}{{p^b_g}}\n",
    "\\newcommand{\\dpbg}{{\\dot{p}^b_g}}\n",
    "\\newcommand{\\ddpbg}{{\\ddot{p}^b_g}}\n",
    "\\newcommand{\\pbi}{{p^b_i}}\n",
    "\\newcommand{\\dpbi}{{\\dot{p}^b_i}}\n",
    "\\newcommand{\\ddpbi}{{\\ddot{p}^b_i}}\n",
    "\\newcommand{\\Rba}{{R^b_a}}\n",
    "\\newcommand{\\dRba}{{\\dot{R}{}^b_a}}\n",
    "\\newcommand{\\ddRba}{{\\ddot{R}{}^b_a}}\n",
    "\\newcommand{\\Rab}{{R^a_b}}\n",
    "\\newcommand{\\omaa}{{\\omega^a_a}}\n",
    "\\newcommand{\\domaa}{{\\dot{\\omega}{}^a_a}}\n",
    "\\newcommand{\\Somaa}{{S\\left(\\omega^a_a\\right)}}\n",
    "\\newcommand{\\dSomaa}{{S\\left(\\dot{\\omega}{}^a_a\\right)}}\n",
    "\\newcommand{\\Spag}{{S\\left(p^a_g\\right)}}\n",
    "\\newcommand{\\Spai}{{S\\left(p^a_i\\right)}}\n",
    "\\newcommand{\\nuaa}{{\\nu^a_a}}\n",
    "\\newcommand{\\dnuaa}{{\\dot{\\nu}{}^a_a}}\n",
    "\\newcommand{\\Fb}{{F^b}}\n",
    "\\newcommand{\\Fa}{{F^a}}\n",
    "\\newcommand{\\Fg}{{F_g}}\n",
    "\\newcommand{\\Fv}{{F_v}}\n",
    "\\newcommand{\\Ng}{{N_g}}\n",
    "\\newcommand{\\Nv}{{N_v}}\n",
    "\\newcommand{\\Fe}{{F^{ext}}}\n",
    "\\newcommand{\\Na}{{N^a}}\n",
    "\\newcommand{\\iM}{{M^{-1}}}\n",
    "\\newcommand{\\BM}{\\left[\\begin{matrix}}\n",
    "\\newcommand{\\EBM}{\\end{matrix}\\right]}\n",
    "\\newcommand{\\gamaa}{{\\gamma^a_a}}\n",
    "\\newcommand{\\dgamaa}{{\\dot{\\gamma}{}^a_a}}\n",
    "\\newcommand{\\vx}{\\vec{x}}\n",
    "\\newcommand{\\vt}{\\vec{\\tau}}\n",
    "\\newcommand{\\vn}{\\vec{\\nu}}\n",
    "\\newcommand{\\T}{^\\top}\n",
    "\\newcommand{\\o}[1]{{\\overline{#1}}}\n",
    "\\newcommand{\\d}[2]{{\\frac{\\partial #1}{\\partial #2}}}\n",
    "\\newcommand{\\xpba}{{\\,}^x{\\!}p^b_a}\n",
    "\\newcommand{\\ypba}{{\\,}^y{\\!}p^b_a}\n",
    "$$\n"
   ]
  },
  {
   "cell_type": "markdown",
   "metadata": {},
   "source": [
    "# Lab 04 - Control of a quadrotor - example of outer loop\n",
    "In this exercise model of flying robot is specified with actuation system characteristic for quadrotor.\n",
    "Than control algorithm for altitude and pose stabilisation is extended to stabilize position."
   ]
  },
  {
   "cell_type": "markdown",
   "metadata": {},
   "source": [
    "## The model of a flying robot\n",
    "At the beginning let import all necessary libraries: "
   ]
  },
  {
   "cell_type": "code",
   "execution_count": 1,
   "metadata": {},
   "outputs": [],
   "source": [
    "from sympy import *\n",
    "from sympy.plotting import plot\n",
    "from sympy.matrices import matrix_multiply_elementwise as mme\n",
    "import numpy as np\n",
    "from scipy.integrate import solve_ivp\n",
    "import matplotlib.pyplot as plt\n",
    "import functools"
   ]
  },
  {
   "cell_type": "markdown",
   "metadata": {},
   "source": [
    "Next define all variables used in the equation of the motion and all necessary helper functions:"
   ]
  },
  {
   "cell_type": "code",
   "execution_count": 2,
   "metadata": {},
   "outputs": [],
   "source": [
    "t = symbols('t')\n",
    "\n",
    "# Flying robot\n",
    "phi_, tta_, psi_ = symbols('\\phi \\\\theta \\psi', cls=Function)\n",
    "phi, tta, psi = phi_(t), tta_(t), psi_(t)\n",
    "\n",
    "m, Ix, Iy, Iz = symbols('m I_x I_y I_z') # mass and inertia\n",
    "u_,v_,w_,p_,q_,r_ = symbols('u v w p q r', cls=Function)\n",
    "u,v,w,p,q,r = u_(t),v_(t),w_(t),p_(t),q_(t),r_(t)\n",
    "xpag, ypag, zpag = symbols('{\\\\\\,}^x{\\\\!}p^a_g {\\\\\\,}^y{\\\\!}p^a_g {\\\\\\,}^z{\\\\!}p^a_g')\n",
    "\n",
    "grav, rho, Vol = symbols('g \\\\rho_{air} V') # earth acceleration, air density, object volume\n",
    "xpav, ypav, zpav = symbols('{\\\\\\,}^x{\\\\!}p^a_v {\\\\\\,}^y{\\\\!}p^a_v {\\\\\\,}^z{\\\\!}p^a_v')\n",
    "pav = Matrix([xpav,ypav,zpav])\n",
    "\n",
    "# aerodynamical coeffiecients\n",
    "uCd, vCd, wCd, pCd, qCd, rCd = symbols('{\\\\\\,}^u{\\\\!}C_d {\\\\\\,}^v{\\\\!}C_d {\\\\\\,}^w{\\\\!}C_d {\\\\\\,}^p{\\\\!}C_d {\\\\\\,}^q{\\\\!}C_d {\\\\\\,}^r{\\\\!}C_d')\n",
    "uCl, vCl, pCl, qCl, rCl = symbols('{\\\\\\,}^u{\\\\!}C_l {\\\\\\,}^v{\\\\!}C_l {\\\\\\,}^p{\\\\!}C_l {\\\\\\,}^q{\\\\!}C_l {\\\\\\,}^r{\\\\!}C_l')\n",
    "\n",
    "tauu_,tauv_,tauw_,taup_,tauq_,taur_ = symbols('\\\\tau_u \\\\tau_v \\\\tau_w \\\\tau_p \\\\tau_q \\\\tau_r', cls=Function)\n",
    "tauu,tauv,tauw,taup,tauq,taur = tauu_(t),tauv_(t),tauw_(t),taup_(t),tauq_(t),taur_(t)\n",
    "tau = Matrix([tauu,tauv,tauw,taup,tauq,taur])\n",
    "\n",
    "tauus,tauvs,tauws,taups,tauqs,taurs = symbols('\\overline{\\\\tau}_u \\overline{\\\\tau}_v \\overline{\\\\tau}_w \\overline{\\\\tau}_p \\overline{\\\\tau}_q \\overline{\\\\tau}_r', cls=Function)\n",
    "taus = Matrix([tauus,tauvs,tauws,taups,tauqs,taurs])\n",
    "\n",
    "us,vs,ws,ps,qs,rs = symbols('\\o{u} \\o{v} \\o{w} \\o{p} \\o{q} \\o{r}', constant=True)\n",
    "gamaas = Matrix([us,vs,ws,ps,qs,rs])\n",
    "\n",
    "Chi = Matrix([[phi,tta,psi]]).T\n",
    "dChi = diff(Chi,t)\n",
    "\n",
    "cN1, cN2, cN3, cN4, cN = symbols('c_{N1} c_{N2} c_{N3} c_{N4} c_{N}')\n",
    "cF1, cF2, cF3, cF4, cF = symbols('c_{F1} c_{F2} c_{F3} c_{F4} c_{F}')\n",
    "om1_, om2_, om3_, om4_ = symbols('\\omega_1 \\omega_2 \\omega_3 \\omega_4',cls=Function)\n",
    "om1, om2, om3, om4 = om1_(t), om2_(t), om3_(t), om4_(t)\n",
    "xpgE1, ypgE1, zpgE1 = symbols('{\\\\\\,}^x{\\\\!}p^g_{E1} {\\\\\\,}^y{\\\\!}p^g_{E1} {\\\\\\,}^z{\\\\!}p^g_{E1}')\n",
    "xpgE2, ypgE2, zpgE2 = symbols('{\\\\\\,}^x{\\\\!}p^g_{E2} {\\\\\\,}^y{\\\\!}p^g_{E2} {\\\\\\,}^z{\\\\!}p^g_{E2}')\n",
    "xpgE3, ypgE3, zpgE3 = symbols('{\\\\\\,}^x{\\\\!}p^g_{E3} {\\\\\\,}^y{\\\\!}p^g_{E3} {\\\\\\,}^z{\\\\!}p^g_{E3}')\n",
    "xpgE4, ypgE4, zpgE4 = symbols('{\\\\\\,}^x{\\\\!}p^g_{E4} {\\\\\\,}^y{\\\\!}p^g_{E4} {\\\\\\,}^z{\\\\!}p^g_{E4}')\n",
    "pgE1 = Matrix([xpgE1, ypgE1, zpgE1])\n",
    "pgE2 = Matrix([xpgE2, ypgE2, zpgE2])\n",
    "pgE3 = Matrix([xpgE3, ypgE3, zpgE3])\n",
    "pgE4 = Matrix([xpgE4, ypgE4, zpgE4])\n",
    "z_ax = Matrix([0,0,1])\n",
    "\n",
    "x_, y_, z_ = symbols('x y z',cls=Function)\n",
    "x, y, z = x_(t), y_(t), z_(t)\n",
    "xs, ys, zs = symbols('\\o{x} \\o{y} \\o{z}')\n",
    "phis, ttas, psis = symbols('\\o{\\phi} \\o{\\\\theta} \\o{\\psi}')\n",
    "om1s,om2s,om3s,om4s = symbols('\\o{\\omega}_1 \\o{\\omega}_2 \\o{\\omega}_3 \\o{\\omega}_4')\n",
    "\n",
    "xd,yd,zd,phid,ttad,psid = symbols('x_d y_d z_d \\phi_d \\\\theta_d \\psi_d')\n",
    "eta = Matrix([x,y,z,phi,tta,psi])"
   ]
  },
  {
   "cell_type": "code",
   "execution_count": 3,
   "metadata": {},
   "outputs": [],
   "source": [
    "def log_results(func):\n",
    "    @functools.wraps(func)\n",
    "    def w_dec(*args, **kwargs):\n",
    "        res = func(*args, **kwargs)\n",
    "        t_old = -1 if len(w_dec.t) == 0 else w_dec.t[-1]\n",
    "        t_new = args[0]\n",
    "        if t_new > t_old:\n",
    "            w_dec.log.append(res)\n",
    "            w_dec.t.append(args[0])\n",
    "        else:\n",
    "            f = filter(lambda x: x >= t_new, w_dec.t)\n",
    "            idx = w_dec.t.index(next(f))\n",
    "            w_dec.log = w_dec.log[0:idx]+[res]\n",
    "            w_dec.t = w_dec.t[0:idx]+[t_new]\n",
    "        return res\n",
    "    w_dec.log = []\n",
    "    w_dec.t = []\n",
    "    return w_dec\n",
    "\n",
    "\n",
    "Sk = lambda v: Matrix([[0, -v[2], v[1]],[v[2], 0, -v[0]],[-v[1], v[0], 0]])\n",
    "\n",
    "def Rx(a):\n",
    "    return Matrix([[1,0,0],\n",
    "                  [0,cos(a),-sin(a)],\n",
    "                  [0,sin(a),cos(a)]])\n",
    "\n",
    "def Ry(a):\n",
    "    return Matrix([[cos(a),0,sin(a)],\n",
    "                  [0,1,0],\n",
    "                  [-sin(a),0,cos(a)]])\n",
    "\n",
    "def Rz(a):\n",
    "    return Matrix([[cos(a),-sin(a),0],\n",
    "                  [sin(a),cos(a),0],\n",
    "                  [0,0,1]])\n",
    "\n",
    "def Jac(R,dChi=dChi):\n",
    "    dR = (diff(R,t))\n",
    "    Sw = (R.T @ dR)\n",
    "    omsw = Matrix([[Sw[(2,1)]],[Sw[(0,2)]],[Sw[(1,0)]]])\n",
    "    iJ = simplify(omsw.jacobian(dChi))\n",
    "    J = simplify(iJ.inverse())\n",
    "    return J\n",
    "\n",
    "def plot_results(sim,ctrl,traj):\n",
    "    control = np.array([ctrl.log[ctrl.t.index(time)] for time in sim.t]).T\n",
    "    trajectory = np.array([traj.log[traj.t.index(time)] for time in sim.t]).T\n",
    "    fig1 = plt.figure()\n",
    "    ax1 = fig1.add_subplot(3,2,1)\n",
    "    ax1.plot(sim.t,sim.y[0],label='x')\n",
    "    ax1.plot(sim.t,sim.y[1],label='y')\n",
    "    ax1.plot(sim.t,sim.y[2],label='z')\n",
    "    ax1.legend(loc='best')\n",
    "    ax1 = fig1.add_subplot(3,2,2)\n",
    "    ax1.plot(sim.t,sim.y[3],label='$\\phi$')\n",
    "    ax1.plot(sim.t,sim.y[4],label='$\\\\theta$')\n",
    "    ax1.plot(sim.t,sim.y[5],label='$\\psi$')\n",
    "    ax1.legend(loc='best')\n",
    "    ax1 = fig1.add_subplot(3,2,3)\n",
    "    ax1.plot(sim.t,sim.y[6],label='$u$')\n",
    "    ax1.plot(sim.t,sim.y[7],label='$v$')\n",
    "    ax1.plot(sim.t,sim.y[8],label='$w$')\n",
    "    ax1.legend(loc='best')\n",
    "    ax1 = fig1.add_subplot(3,2,4)\n",
    "    ax1.plot(sim.t,sim.y[9],label='$p$')\n",
    "    ax1.plot(sim.t,sim.y[10],label='$q$')\n",
    "    ax1.plot(sim.t,sim.y[11],label='$r$')\n",
    "    ax1.legend(loc='best')\n",
    "    fig2 = plt.figure()\n",
    "    ax2 = fig2.add_subplot(1,1,1)\n",
    "    ax2.plot(sim.t,control[0],label='$\\omega_1$')\n",
    "    ax2.plot(sim.t,control[1],label='$\\omega_2$')\n",
    "    ax2.plot(sim.t,control[2],label='$\\omega_3$')\n",
    "    ax2.plot(sim.t,control[3],label='$\\omega_4$')\n",
    "    ax2.legend(loc='best')\n",
    "#     ax2.set_ylim([244,246])\n",
    "    fig3 = plt.figure()\n",
    "    ax3 = fig3.add_subplot(1,1,1)\n",
    "    ax3.plot(sim.t,sim.y[0]-trajectory[0],label='$x-x_d$')\n",
    "    ax3.plot(sim.t,sim.y[1]-trajectory[1],label='$y-y_d$')\n",
    "    ax3.plot(sim.t,sim.y[2]-trajectory[2],label='$z-z_d$')\n",
    "    ax3.plot(sim.t,sim.y[3]-trajectory[3],label='$\\phi-\\phi_d$')\n",
    "    ax3.plot(sim.t,sim.y[4]-trajectory[4],label='$\\\\theta-\\\\theta_d$')\n",
    "    ax3.plot(sim.t,sim.y[5]-trajectory[5],label='$\\psi-\\psi_d$')\n",
    "    ax3.legend(loc='best')\n",
    "    fig4 = plt.figure()\n",
    "    ax4 = fig4.add_subplot(1,1,1)\n",
    "    ax4.plot(sim.y[0],sim.y[1])\n",
    "    ax4.plot(trajectory[0],trajectory[1])\n",
    "    ax4.set_xlabel('x')\n",
    "    ax4.set_ylabel('y')\n",
    "    ax4.set_aspect('equal')"
   ]
  },
  {
   "cell_type": "markdown",
   "metadata": {},
   "source": [
    "Using [symbolic expression](https://www.sympy.org/en/index.html) let define componenets of the equations of motion, notice simplification of mass matrix $M$ and be patient:"
   ]
  },
  {
   "cell_type": "code",
   "execution_count": 4,
   "metadata": {},
   "outputs": [],
   "source": [
    "Rba = (Rz(psi) @ Ry(tta) @ Rx(phi)) # RPY\n",
    "Rab = Rba.T\n",
    "Jba = Jac(Rba)\n",
    "Jab = simplify(Jba.inverse())\n",
    "Eta = Rba.col_join(zeros(3)).row_join(zeros(3).col_join(Jba))\n",
    "iEta = simplify(Eta.inverse())\n",
    "\n",
    "I, nu, omaa, pag = diag(Ix,Iy,Iz), Matrix([u,v,w]), Matrix([p,q,r]), Matrix([xpag,ypag,zpag]) # inertia tensor, linear and angular velocities, vector of position of the center of gravity in the local frame\n",
    "M = (m*eye(3)).row_join(-m * Sk(pag)).col_join((m * Sk(pag)).row_join(I))\n",
    "# iM = simplify(M.inv()) # symbolic inversion of a matrix is very time consumming\n",
    "iM = simplify(M.subs({xpag:0,ypag:0,zpag:0}).inv())\n",
    "C = (m*Sk(omaa)).row_join(-m*Sk(omaa)*Sk(pag)).col_join((m*Sk(pag)*Sk(omaa)).row_join(-Sk(omaa)*I))\n",
    "# gravity\n",
    "Fbg = Matrix([0,0,-m*grav])\n",
    "Fag = Rab*Fbg\n",
    "Nag = Sk(pag)*Fag\n",
    "Gag = Fag.col_join(Nag)\n",
    "# bouyancy\n",
    "Fbv = Matrix([0,0,rho*grav*Vol])\n",
    "Fav = Rab*Fbv\n",
    "Nav = Sk(pav)*Fav\n",
    "Gav = Fav.col_join(Nav)\n",
    "# restoring forces\n",
    "Gar = Gag+Gav\n",
    "gamaa, sgamaa = nu.col_join(omaa), Matrix([sign(u),sign(v),sign(w),sign(p),sign(q),sign(r)])\n",
    "Cad = Matrix([[uCd,0,0,0,0,0],[0,vCd,0,0,0,0],[0,0,wCd,0,0,0],[0,0,0,pCd,0,0],[0,0,0,0,qCd,0],[0,0,0,0,0,rCd]])\n",
    "Cal = Matrix([[0,0,0,0,0,0],[0,0,0,0,0,0],[uCl,vCl,0,pCl,qCl,rCl],[0,0,0,0,0,0],[0,0,0,0,0,0],[0,0,0,0,0,0]])\n",
    "Gaa = -Cad * mme(sgamaa,mme(gamaa,gamaa)) + Cal * mme(gamaa,gamaa)"
   ]
  },
  {
   "cell_type": "markdown",
   "metadata": {},
   "source": [
    "## Exercise 1:\n",
    "\n",
    "### Quadrotor actuation system\n",
    "\n",
    "<img src=\"./gfx/quadrotor2.svg\"/>\n",
    "\n",
    "The equation of the actuation system are:\n",
    "\n",
    "$$\\tau = \\BM {}^{u,v,w}\\tau \\\\ {}^{p,q,r}\\tau \\EBM= \\BM 0 \\\\ 0 \\\\ {}^w\\tau \\\\ {}^p\\tau \\\\{}^q\\tau \\\\{}^r\\tau \\EBM$$\n",
    "\n",
    "$$\n",
    "\\begin{align}\n",
    "{}^{u,v,w}\\tau &= \\sum{F_{E_i}}\\\\\n",
    "{}^{p,q,r}\\tau &= \\sum{S\\left(p^g_{E_i}\\right)F_{E_i}} + \\sum{N_{E_i}}\\\\\n",
    "N_{E_i} &= \\BM 0 & 0 -c_{N} \\omega_i\\EBM\\T \\\\\n",
    "F_{E_i} &= c_{F} \\omega_i \\BM 0 & 0 & 1 \\\\ \\EBM\\T\n",
    "\\end{align}\n",
    "$$\n",
    "\n",
    "Using already defined symbols define $\\tau$ for quadrotor as variable `tau_quad`. Remember about different directions of rotation of the opposite engines.\n",
    "Also define equations of kinematics and dynamics (use simplify function for simplification of the equations):\n",
    "\n",
    "### Use solution from Lab 03"
   ]
  },
  {
   "cell_type": "code",
   "execution_count": 5,
   "metadata": {},
   "outputs": [
    {
     "data": {
      "text/latex": [
       "$\\displaystyle \\left[\\begin{matrix}0\\\\0\\\\c_{F} \\omega_{1}{\\left(t \\right)} + c_{F} \\omega_{2}{\\left(t \\right)} + c_{F} \\omega_{3}{\\left(t \\right)} + c_{F} \\omega_{4}{\\left(t \\right)}\\\\c_{F} {\\,}^y{\\!}p^g_{E1} \\omega_{1}{\\left(t \\right)} + c_{F} {\\,}^y{\\!}p^g_{E2} \\omega_{2}{\\left(t \\right)} + c_{F} {\\,}^y{\\!}p^g_{E3} \\omega_{3}{\\left(t \\right)} + c_{F} {\\,}^y{\\!}p^g_{E4} \\omega_{4}{\\left(t \\right)}\\\\- c_{F} {\\,}^x{\\!}p^g_{E1} \\omega_{1}{\\left(t \\right)} - c_{F} {\\,}^x{\\!}p^g_{E2} \\omega_{2}{\\left(t \\right)} - c_{F} {\\,}^x{\\!}p^g_{E3} \\omega_{3}{\\left(t \\right)} - c_{F} {\\,}^x{\\!}p^g_{E4} \\omega_{4}{\\left(t \\right)}\\\\- c_{N} \\omega_{1}{\\left(t \\right)} + c_{N} \\omega_{2}{\\left(t \\right)} - c_{N} \\omega_{3}{\\left(t \\right)} + c_{N} \\omega_{4}{\\left(t \\right)}\\end{matrix}\\right]$"
      ],
      "text/plain": [
       "Matrix([\n",
       "[                                                                                                                                                         0],\n",
       "[                                                                                                                                                         0],\n",
       "[                                                                             c_{F}*\\omega_1(t) + c_{F}*\\omega_2(t) + c_{F}*\\omega_3(t) + c_{F}*\\omega_4(t)],\n",
       "[ c_{F}*{\\,}^y{\\!}p^g_{E1}*\\omega_1(t) + c_{F}*{\\,}^y{\\!}p^g_{E2}*\\omega_2(t) + c_{F}*{\\,}^y{\\!}p^g_{E3}*\\omega_3(t) + c_{F}*{\\,}^y{\\!}p^g_{E4}*\\omega_4(t)],\n",
       "[-c_{F}*{\\,}^x{\\!}p^g_{E1}*\\omega_1(t) - c_{F}*{\\,}^x{\\!}p^g_{E2}*\\omega_2(t) - c_{F}*{\\,}^x{\\!}p^g_{E3}*\\omega_3(t) - c_{F}*{\\,}^x{\\!}p^g_{E4}*\\omega_4(t)],\n",
       "[                                                                            -c_{N}*\\omega_1(t) + c_{N}*\\omega_2(t) - c_{N}*\\omega_3(t) + c_{N}*\\omega_4(t)]])"
      ]
     },
     "metadata": {},
     "output_type": "display_data"
    }
   ],
   "source": [
    "## your code here\n",
    "\n",
    "xpgE4, ypgE4, zpgE4 = symbols('{\\\\\\,}^x{\\\\!}p^g_{E4} {\\\\\\,}^y{\\\\!}p^g_{E4} {\\\\\\,}^z{\\\\!}p^g_{E4}')\n",
    "pgE1 = Matrix([xpgE1, ypgE1, zpgE1])\n",
    "\n",
    "\n",
    "Fe1 = cF*om1*Matrix([0,0,1])\n",
    "Fe2 = cF*om2*Matrix([0,0,1])\n",
    "Fe3 = cF*om3*Matrix([0,0,1])\n",
    "Fe4 = cF*om4*Matrix([0,0,1])\n",
    "Ne1 = Matrix([0,0,-cN*om1])\n",
    "Ne2 = Matrix([0,0,-cN*om2])\n",
    "Ne3 = Matrix([0,0,-cN*om3])\n",
    "Ne4 = Matrix([0,0,-cN*om4])\n",
    "pqr_tau = Sk(pgE1)*Fe1 + Sk(pgE2)*Fe2 + Sk(pgE3)*Fe3 + Sk(pgE4)*Fe4 + Ne1 - Ne2 + Ne3 - Ne4\n",
    "uvw_tau = Fe1 + Fe2 + Fe3 + Fe4\n",
    "\n",
    "tau_quad = uvw_tau.col_join(pqr_tau)\n",
    "display(tau_quad)"
   ]
  },
  {
   "cell_type": "code",
   "execution_count": 6,
   "metadata": {},
   "outputs": [
    {
     "data": {
      "text/latex": [
       "$\\displaystyle \\left[\\begin{matrix}\\left(\\sin{\\left(\\phi{\\left(t \\right)} \\right)} \\sin{\\left(\\psi{\\left(t \\right)} \\right)} + \\sin{\\left(\\theta{\\left(t \\right)} \\right)} \\cos{\\left(\\phi{\\left(t \\right)} \\right)} \\cos{\\left(\\psi{\\left(t \\right)} \\right)}\\right) w{\\left(t \\right)} + \\left(\\sin{\\left(\\phi{\\left(t \\right)} \\right)} \\sin{\\left(\\theta{\\left(t \\right)} \\right)} \\cos{\\left(\\psi{\\left(t \\right)} \\right)} - \\sin{\\left(\\psi{\\left(t \\right)} \\right)} \\cos{\\left(\\phi{\\left(t \\right)} \\right)}\\right) v{\\left(t \\right)} + u{\\left(t \\right)} \\cos{\\left(\\psi{\\left(t \\right)} \\right)} \\cos{\\left(\\theta{\\left(t \\right)} \\right)}\\\\- \\left(\\sin{\\left(\\phi{\\left(t \\right)} \\right)} \\cos{\\left(\\psi{\\left(t \\right)} \\right)} - \\sin{\\left(\\psi{\\left(t \\right)} \\right)} \\sin{\\left(\\theta{\\left(t \\right)} \\right)} \\cos{\\left(\\phi{\\left(t \\right)} \\right)}\\right) w{\\left(t \\right)} + \\left(\\sin{\\left(\\phi{\\left(t \\right)} \\right)} \\sin{\\left(\\psi{\\left(t \\right)} \\right)} \\sin{\\left(\\theta{\\left(t \\right)} \\right)} + \\cos{\\left(\\phi{\\left(t \\right)} \\right)} \\cos{\\left(\\psi{\\left(t \\right)} \\right)}\\right) v{\\left(t \\right)} + u{\\left(t \\right)} \\sin{\\left(\\psi{\\left(t \\right)} \\right)} \\cos{\\left(\\theta{\\left(t \\right)} \\right)}\\\\- u{\\left(t \\right)} \\sin{\\left(\\theta{\\left(t \\right)} \\right)} + v{\\left(t \\right)} \\sin{\\left(\\phi{\\left(t \\right)} \\right)} \\cos{\\left(\\theta{\\left(t \\right)} \\right)} + w{\\left(t \\right)} \\cos{\\left(\\phi{\\left(t \\right)} \\right)} \\cos{\\left(\\theta{\\left(t \\right)} \\right)}\\\\p{\\left(t \\right)} + q{\\left(t \\right)} \\sin{\\left(\\phi{\\left(t \\right)} \\right)} \\tan{\\left(\\theta{\\left(t \\right)} \\right)} + r{\\left(t \\right)} \\cos{\\left(\\phi{\\left(t \\right)} \\right)} \\tan{\\left(\\theta{\\left(t \\right)} \\right)}\\\\q{\\left(t \\right)} \\cos{\\left(\\phi{\\left(t \\right)} \\right)} - r{\\left(t \\right)} \\sin{\\left(\\phi{\\left(t \\right)} \\right)}\\\\\\frac{q{\\left(t \\right)} \\sin{\\left(\\phi{\\left(t \\right)} \\right)} + r{\\left(t \\right)} \\cos{\\left(\\phi{\\left(t \\right)} \\right)}}{\\cos{\\left(\\theta{\\left(t \\right)} \\right)}}\\end{matrix}\\right]$"
      ],
      "text/plain": [
       "Matrix([\n",
       "[ (sin(\\phi(t))*sin(\\psi(t)) + sin(\\theta(t))*cos(\\phi(t))*cos(\\psi(t)))*w(t) + (sin(\\phi(t))*sin(\\theta(t))*cos(\\psi(t)) - sin(\\psi(t))*cos(\\phi(t)))*v(t) + u(t)*cos(\\psi(t))*cos(\\theta(t))],\n",
       "[-(sin(\\phi(t))*cos(\\psi(t)) - sin(\\psi(t))*sin(\\theta(t))*cos(\\phi(t)))*w(t) + (sin(\\phi(t))*sin(\\psi(t))*sin(\\theta(t)) + cos(\\phi(t))*cos(\\psi(t)))*v(t) + u(t)*sin(\\psi(t))*cos(\\theta(t))],\n",
       "[                                                                                                   -u(t)*sin(\\theta(t)) + v(t)*sin(\\phi(t))*cos(\\theta(t)) + w(t)*cos(\\phi(t))*cos(\\theta(t))],\n",
       "[                                                                                                                   p(t) + q(t)*sin(\\phi(t))*tan(\\theta(t)) + r(t)*cos(\\phi(t))*tan(\\theta(t))],\n",
       "[                                                                                                                                                        q(t)*cos(\\phi(t)) - r(t)*sin(\\phi(t))],\n",
       "[                                                                                                                                       (q(t)*sin(\\phi(t)) + r(t)*cos(\\phi(t)))/cos(\\theta(t))]])"
      ]
     },
     "metadata": {},
     "output_type": "display_data"
    },
    {
     "data": {
      "text/latex": [
       "$\\displaystyle \\left[\\begin{matrix}\\frac{- V \\rho_{air} g \\sin{\\left(\\theta{\\left(t \\right)} \\right)} + g m \\sin{\\left(\\theta{\\left(t \\right)} \\right)} + {\\,}^u{\\!}C_d u^{2}{\\left(t \\right)} \\operatorname{sign}{\\left(u{\\left(t \\right)} \\right)}}{m}\\\\\\frac{V \\rho_{air} g \\sin{\\left(\\phi{\\left(t \\right)} \\right)} \\cos{\\left(\\theta{\\left(t \\right)} \\right)} - g m \\sin{\\left(\\phi{\\left(t \\right)} \\right)} \\cos{\\left(\\theta{\\left(t \\right)} \\right)} + {\\,}^v{\\!}C_d v^{2}{\\left(t \\right)} \\operatorname{sign}{\\left(v{\\left(t \\right)} \\right)}}{m}\\\\\\frac{V \\rho_{air} g \\cos{\\left(\\phi{\\left(t \\right)} \\right)} \\cos{\\left(\\theta{\\left(t \\right)} \\right)} + c_{F} \\omega_{1}{\\left(t \\right)} + c_{F} \\omega_{2}{\\left(t \\right)} + c_{F} \\omega_{3}{\\left(t \\right)} + c_{F} \\omega_{4}{\\left(t \\right)} - g m \\cos{\\left(\\phi{\\left(t \\right)} \\right)} \\cos{\\left(\\theta{\\left(t \\right)} \\right)} - {\\,}^p{\\!}C_l p^{2}{\\left(t \\right)} - {\\,}^q{\\!}C_l q^{2}{\\left(t \\right)} - {\\,}^r{\\!}C_l r^{2}{\\left(t \\right)} - {\\,}^u{\\!}C_l u^{2}{\\left(t \\right)} - {\\,}^v{\\!}C_l v^{2}{\\left(t \\right)} + {\\,}^w{\\!}C_d w^{2}{\\left(t \\right)} \\operatorname{sign}{\\left(w{\\left(t \\right)} \\right)}}{m}\\\\\\frac{V \\rho_{air} g {\\,}^y{\\!}p^a_v \\cos{\\left(\\phi{\\left(t \\right)} \\right)} \\cos{\\left(\\theta{\\left(t \\right)} \\right)} - V \\rho_{air} g {\\,}^z{\\!}p^a_v \\sin{\\left(\\phi{\\left(t \\right)} \\right)} \\cos{\\left(\\theta{\\left(t \\right)} \\right)} + c_{F} {\\,}^y{\\!}p^g_{E1} \\omega_{1}{\\left(t \\right)} + c_{F} {\\,}^y{\\!}p^g_{E2} \\omega_{2}{\\left(t \\right)} + c_{F} {\\,}^y{\\!}p^g_{E3} \\omega_{3}{\\left(t \\right)} + c_{F} {\\,}^y{\\!}p^g_{E4} \\omega_{4}{\\left(t \\right)} - g m {\\,}^y{\\!}p^a_g \\cos{\\left(\\phi{\\left(t \\right)} \\right)} \\cos{\\left(\\theta{\\left(t \\right)} \\right)} + g m {\\,}^z{\\!}p^a_g \\sin{\\left(\\phi{\\left(t \\right)} \\right)} \\cos{\\left(\\theta{\\left(t \\right)} \\right)} + {\\,}^p{\\!}C_d p^{2}{\\left(t \\right)} \\operatorname{sign}{\\left(p{\\left(t \\right)} \\right)}}{I_{x}}\\\\\\frac{- V \\rho_{air} g {\\,}^x{\\!}p^a_v \\cos{\\left(\\phi{\\left(t \\right)} \\right)} \\cos{\\left(\\theta{\\left(t \\right)} \\right)} - V \\rho_{air} g {\\,}^z{\\!}p^a_v \\sin{\\left(\\theta{\\left(t \\right)} \\right)} - c_{F} {\\,}^x{\\!}p^g_{E1} \\omega_{1}{\\left(t \\right)} - c_{F} {\\,}^x{\\!}p^g_{E2} \\omega_{2}{\\left(t \\right)} - c_{F} {\\,}^x{\\!}p^g_{E3} \\omega_{3}{\\left(t \\right)} - c_{F} {\\,}^x{\\!}p^g_{E4} \\omega_{4}{\\left(t \\right)} + g m {\\,}^x{\\!}p^a_g \\cos{\\left(\\phi{\\left(t \\right)} \\right)} \\cos{\\left(\\theta{\\left(t \\right)} \\right)} + g m {\\,}^z{\\!}p^a_g \\sin{\\left(\\theta{\\left(t \\right)} \\right)} + {\\,}^q{\\!}C_d q^{2}{\\left(t \\right)} \\operatorname{sign}{\\left(q{\\left(t \\right)} \\right)}}{I_{y}}\\\\\\frac{V \\rho_{air} g {\\,}^x{\\!}p^a_v \\sin{\\left(\\phi{\\left(t \\right)} \\right)} \\cos{\\left(\\theta{\\left(t \\right)} \\right)} + V \\rho_{air} g {\\,}^y{\\!}p^a_v \\sin{\\left(\\theta{\\left(t \\right)} \\right)} - c_{N} \\omega_{1}{\\left(t \\right)} + c_{N} \\omega_{2}{\\left(t \\right)} - c_{N} \\omega_{3}{\\left(t \\right)} + c_{N} \\omega_{4}{\\left(t \\right)} - g m {\\,}^x{\\!}p^a_g \\sin{\\left(\\phi{\\left(t \\right)} \\right)} \\cos{\\left(\\theta{\\left(t \\right)} \\right)} - g m {\\,}^y{\\!}p^a_g \\sin{\\left(\\theta{\\left(t \\right)} \\right)} + {\\,}^r{\\!}C_d r^{2}{\\left(t \\right)} \\operatorname{sign}{\\left(r{\\left(t \\right)} \\right)}}{I_{z}}\\end{matrix}\\right]$"
      ],
      "text/plain": [
       "Matrix([\n",
       "[                                                                                                                                                                                                                                                                                                                                      (-V*\\rho_{air}*g*sin(\\theta(t)) + g*m*sin(\\theta(t)) + {\\,}^u{\\!}C_d*u(t)**2*sign(u(t)))/m],\n",
       "[                                                                                                                                                                                                                                                                                                             (V*\\rho_{air}*g*sin(\\phi(t))*cos(\\theta(t)) - g*m*sin(\\phi(t))*cos(\\theta(t)) + {\\,}^v{\\!}C_d*v(t)**2*sign(v(t)))/m],\n",
       "[                                                                                                     (V*\\rho_{air}*g*cos(\\phi(t))*cos(\\theta(t)) + c_{F}*\\omega_1(t) + c_{F}*\\omega_2(t) + c_{F}*\\omega_3(t) + c_{F}*\\omega_4(t) - g*m*cos(\\phi(t))*cos(\\theta(t)) - {\\,}^p{\\!}C_l*p(t)**2 - {\\,}^q{\\!}C_l*q(t)**2 - {\\,}^r{\\!}C_l*r(t)**2 - {\\,}^u{\\!}C_l*u(t)**2 - {\\,}^v{\\!}C_l*v(t)**2 + {\\,}^w{\\!}C_d*w(t)**2*sign(w(t)))/m],\n",
       "[(V*\\rho_{air}*g*{\\,}^y{\\!}p^a_v*cos(\\phi(t))*cos(\\theta(t)) - V*\\rho_{air}*g*{\\,}^z{\\!}p^a_v*sin(\\phi(t))*cos(\\theta(t)) + c_{F}*{\\,}^y{\\!}p^g_{E1}*\\omega_1(t) + c_{F}*{\\,}^y{\\!}p^g_{E2}*\\omega_2(t) + c_{F}*{\\,}^y{\\!}p^g_{E3}*\\omega_3(t) + c_{F}*{\\,}^y{\\!}p^g_{E4}*\\omega_4(t) - g*m*{\\,}^y{\\!}p^a_g*cos(\\phi(t))*cos(\\theta(t)) + g*m*{\\,}^z{\\!}p^a_g*sin(\\phi(t))*cos(\\theta(t)) + {\\,}^p{\\!}C_d*p(t)**2*sign(p(t)))/I_x],\n",
       "[                         (-V*\\rho_{air}*g*{\\,}^x{\\!}p^a_v*cos(\\phi(t))*cos(\\theta(t)) - V*\\rho_{air}*g*{\\,}^z{\\!}p^a_v*sin(\\theta(t)) - c_{F}*{\\,}^x{\\!}p^g_{E1}*\\omega_1(t) - c_{F}*{\\,}^x{\\!}p^g_{E2}*\\omega_2(t) - c_{F}*{\\,}^x{\\!}p^g_{E3}*\\omega_3(t) - c_{F}*{\\,}^x{\\!}p^g_{E4}*\\omega_4(t) + g*m*{\\,}^x{\\!}p^a_g*cos(\\phi(t))*cos(\\theta(t)) + g*m*{\\,}^z{\\!}p^a_g*sin(\\theta(t)) + {\\,}^q{\\!}C_d*q(t)**2*sign(q(t)))/I_y],\n",
       "[                                                                                                      (V*\\rho_{air}*g*{\\,}^x{\\!}p^a_v*sin(\\phi(t))*cos(\\theta(t)) + V*\\rho_{air}*g*{\\,}^y{\\!}p^a_v*sin(\\theta(t)) - c_{N}*\\omega_1(t) + c_{N}*\\omega_2(t) - c_{N}*\\omega_3(t) + c_{N}*\\omega_4(t) - g*m*{\\,}^x{\\!}p^a_g*sin(\\phi(t))*cos(\\theta(t)) - g*m*{\\,}^y{\\!}p^a_g*sin(\\theta(t)) + {\\,}^r{\\!}C_d*r(t)**2*sign(r(t)))/I_z]])"
      ]
     },
     "metadata": {},
     "output_type": "display_data"
    }
   ],
   "source": [
    "## your code here\n",
    "Kin = simplify(Eta*gamaa)\n",
    "display(Kin)\n",
    "Dyn = simplify(iM*(tau_quad+Gar-Gaa))\n",
    "display(Dyn)\n",
    "diff_state = Kin.col_join(Dyn)"
   ]
  },
  {
   "cell_type": "markdown",
   "metadata": {},
   "source": [
    "### Define parameters of the quadrotor:\n"
   ]
  },
  {
   "cell_type": "code",
   "execution_count": 7,
   "metadata": {},
   "outputs": [],
   "source": [
    "params = {xs:0,ys:0,zs:0,phis:0,ttas:0,psis:0,us:0,vs:0,ws:0,ps:0,qs:0,rs:0}\n",
    "# params = {phis:0,ttas:0,psis:0,us:0,vs:0,ws:0,ps:0,qs:0,rs:0}\n",
    "params.update({uCd:0.01,vCd:0.01,wCd:0.01,pCd:0.01,qCd:0.01,rCd:0.01})\n",
    "params.update({uCl:0.0,vCl:0.0,pCl:0.0,qCl:0.0,rCl:0.0})\n",
    "params.update({Vol:0,rho:0,grav:9.81,m:1,Ix:0.1,Iy:0.1,Iz:0.1})\n",
    "params.update({xpag:0,ypag:0,zpag:0})\n",
    "params.update({cF:0.01,cN:0.001})\n",
    "arm_len = 0.2\n",
    "params.update({xpgE1:arm_len,ypgE1:0,zpgE1:0})\n",
    "params.update({xpgE2:0,ypgE2:arm_len,zpgE2:0})\n",
    "params.update({xpgE3:-arm_len,ypgE3:0,zpgE3:0})\n",
    "params.update({xpgE4:0,ypgE4:-arm_len,zpgE4:0})\n",
    "B = diff_state.jacobian(Matrix([om1,om2,om3,om4]))"
   ]
  },
  {
   "cell_type": "markdown",
   "metadata": {},
   "source": [
    "### Define functions for numerical calculations:"
   ]
  },
  {
   "cell_type": "code",
   "execution_count": 8,
   "metadata": {},
   "outputs": [],
   "source": [
    "F_num = lambdify((phi,tta,psi,u,v,w,p,q,r,om1,om2,om3,om4),diff_state.subs(params))\n",
    "M_num = M.subs(params)\n",
    "G_num = lambdify((phi,tta,u,v,w,p,q,r),(Gar+Gaa).subs(params))\n",
    "C_num = lambdify((p,q,r),C.subs(params))\n",
    "Eta_num = lambdify((phi,tta,psi),Eta)\n",
    "iB_num = np.array(B.subs(params)[8:12,0:4].inv())\n",
    "Rab_num = lambdify((phi,tta,psi),Rab)\n",
    "Rba_num = lambdify((phi,tta,psi),Rba)\n",
    "Jba_num = lambdify((phi,tta,psi),Jba)"
   ]
  },
  {
   "cell_type": "markdown",
   "metadata": {},
   "source": [
    "### Define numerical model of quadrotor and trajectory generator:"
   ]
  },
  {
   "cell_type": "code",
   "execution_count": 9,
   "metadata": {},
   "outputs": [],
   "source": [
    "def quadrotor(t,state):\n",
    "    tr = traj(t,state)\n",
    "    engines_omega = ctrl(t,state,tr)\n",
    "    x,y,z,phi,tta,psi,u,v,w,p,q,r = state\n",
    "    om1,om2,om3,om4 = engines_omega\n",
    "    diff_state = np.ndarray.tolist(F_num(phi,tta,psi,u,v,w,p,q,r,om1,om2,om3,om4).T)[0]\n",
    "    return diff_state"
   ]
  },
  {
   "cell_type": "markdown",
   "metadata": {},
   "source": [
    "## Exercise 2:\n",
    "\n",
    "Define controller for altitute and pose stabilisation.\n",
    "Let start with equation of motion reminder:\n",
    "\n",
    "$$\n",
    "\\begin{align}\n",
    "\\dpba &= \\Rba \\nuaa \\\\\n",
    "\\dot{\\chi} &= J \\omaa \\\\\n",
    "\\dot{\\eta} &= \\BM \\dpba \\\\ \\dot{\\chi} \\EBM \\\\\n",
    "H &=\\BM \\Rba & 0 \\\\ 0 & J\\EBM \\\\\n",
    "\\dot{\\eta} &= H \\gamaa\\\\\n",
    "\\dgamaa &= M^{-1} \\left(\\tau +\\Gamma - C \\gamaa \\right)\n",
    "\\end{align}\n",
    "$$\n",
    "\n",
    "### Control objective:\n",
    "Stabilize $z,\\phi,\\theta,\\psi$, notice, that as a consequance the quadrotor will achive constatnt linear velocities for non-zero $\\phi$ and $\\theta$.\n",
    "\n",
    "### Constraints\n",
    "\n",
    "The controller can generate only four control signals. Desired accelerations in $x$ and $y$ axes in the local frame ($\\dot{u},\\dot{v}$) need to be equal to zero, because of the form of $\\tau$.\n",
    "\n",
    "### Kinematics controller\n",
    "\n",
    "<img src=\"./gfx/vectors_error.svg\" style='height:200px'/>\n",
    "\n",
    "$$\n",
    "\\begin{align}\n",
    "e &= \\eta_d - \\eta \\\\\n",
    "\\dot{e} &= \\dot{\\eta}_d - \\dot{\\eta} \\\\\n",
    "\\eta_d & \\triangleq const \\\\\n",
    "\\dot{e} &= - \\dot{\\eta} \\\\\n",
    "\\end{align}\n",
    "$$\n",
    "\n",
    "#### Control law for kinematcs\n",
    "$$\n",
    "\\begin{align}\n",
    "\\dot{\\eta} &= K_{kin} e \\\\\n",
    "\\dot{e} &= - K_{kin} e\n",
    "\\end{align}\n",
    "$$\n",
    "\n",
    "From the kinematic equation:\n",
    "$$\n",
    "\\gamaa_d = H^{-1} \\dot{\\eta}\n",
    "$$\n",
    "\n",
    "### Dynamics controller\n",
    "\n",
    "$$\n",
    "\\begin{align}\n",
    "e_\\gamma &= \\gamaa_d - \\gamaa\\\\\n",
    "\\dot{e}_\\gamma &= \\dgamaa_d - \\dgamaa \\\\\n",
    "\\gamaa_d &\\triangleq const \\\\\n",
    "\\dot{e}_\\gamma &= - \\dgamaa \\\\\n",
    "\\end{align}\n",
    "$$\n",
    "\n",
    "#### Control law for dynamics\n",
    "\n",
    "$$\n",
    "\\begin{align}\n",
    "\\tau &= M K_{dyn} e_\\gamma  - \\Gamma + C \\gamaa \\\\\n",
    "\\dgamaa &= M^{-1} \\left(M K_{dyn} e_\\gamma - \\Gamma + C \\gamaa  +\\Gamma - C \\gamaa \\right) \\\\\n",
    "\\dgamaa &= M^{-1} M  K_{dyn} e_\\gamma \\\\\n",
    "\\dgamaa &=  K_{dyn} e_\\gamma \\\\\n",
    "\\dot{e}_\\gamma &= -K_{dyn} e_\\gamma\n",
    "\\end{align}\n",
    "$$\n",
    "\n",
    "Because of the constraints in actuation system the control objective do not consider positions in $X$ and $Y$ axes. Main consequance of that are the following assumtions:\n",
    "$$\n",
    "\\begin{align}\n",
    "\\xpba {}_d &= \\xpba \\\\\n",
    "\\ypba {}_d &= \\ypba.\n",
    "\\end{align}\n",
    "$$ \n",
    "Also the velocities $u$ and $v$ are not controlled directly (!), hence the rotational velocities of the engines can be calculated using inverse of the part of the input matrix $B$, where:\n",
    "$$\n",
    "\\begin{align}\n",
    "\\tau = B \\BM \\omega_1 \\\\ \\omega_2 \\\\ \\omega_3 \\\\ \\omega_4 \\EBM\n",
    "\\end{align}\n",
    "$$\n",
    "Such case can be practicly used for remote control of quadrotors. \n",
    "\n",
    "### Use solution from Lab 03"
   ]
  },
  {
   "cell_type": "markdown",
   "metadata": {},
   "source": [
    "## Exercise 3:\n",
    "\n",
    "Implement outer loop.\n",
    "\n",
    "The proposed control algorithm for the outer loop is to rotate the robot towards the desired destination at a certain angle $\\kappa$ (control parameter), and when the robot approaches the destination, this angle should decrease."
   ]
  },
  {
   "cell_type": "markdown",
   "metadata": {},
   "source": [
    "Let define the axis of desired rotation $\\alpha^b$ in the global frame as:\n",
    "$$\n",
    "\\begin{align}\n",
    "e =& \\pbd-\\pba \\\\\n",
    "e_p =& \\dpbd - \\dpba \\\\\n",
    "\\alpha^b =& \\BM 0 \\\\ 0 \\\\ 1\\EBM \\times \\left(e_p + \\dot{e}_p\\right)\n",
    "\\end{align}\n",
    "$$\n",
    "\n",
    "The angle of rotation $\\kappa$ in the proposed algorithm is a design parameter independent of the distance from the desired position. So the $\\alpha^b$ axis should be normalized.\n",
    "\n",
    "$$\n",
    "\\begin{align}\n",
    "\\hat{\\alpha}^b = \\frac{\\alpha^b}{\\left\\lVert{\\alpha^b}\\right\\rVert}\n",
    "\\end{align}\n",
    "$$\n"
   ]
  },
  {
   "cell_type": "markdown",
   "metadata": {},
   "source": [
    "The elements of the axis of rotation expressed in the local frame can be interpreted as angular velocities:\n",
    "\n",
    "$$\n",
    "\\begin{align}\n",
    "\\hat{\\alpha}^a = \\Rab \\hat{\\alpha}^b \\sim \\BM p \\\\ q \\\\ r \\EBM\n",
    "\\end{align}\n",
    "$$"
   ]
  },
  {
   "cell_type": "markdown",
   "metadata": {},
   "source": [
    "A sigmoid function is proposed to reduce the $\\kappa$ when the robot is approaching its destination:\n",
    "\n",
    "$$\n",
    "\\begin{align}\n",
    "k_\\kappa = \\frac{\\left\\rVert e_p+ \\dot{e}_p\\right\\rVert}{\\left\\rVert e_p+ \\dot{e}_p\\right\\rVert + \\delta}\n",
    "\\end{align}\n",
    "$$"
   ]
  },
  {
   "cell_type": "code",
   "execution_count": 10,
   "metadata": {},
   "outputs": [
    {
     "data": {
      "text/plain": [
       "[<matplotlib.lines.Line2D at 0x7f7ab085d550>]"
      ]
     },
     "execution_count": 10,
     "metadata": {},
     "output_type": "execute_result"
    },
    {
     "data": {
      "image/png": "[encoded data removed]",
      "text/plain": [
       "<Figure size 432x288 with 1 Axes>"
      ]
     },
     "metadata": {
      "needs_background": "light"
     },
     "output_type": "display_data"
    }
   ],
   "source": [
    "# definition and visualisation of the proposed sigmoid function\n",
    "def sigmoid(x,delta):\n",
    "    return (x/(np.abs(x)+delta))  \n",
    "\n",
    "delta = 10\n",
    "x = np.array(range(-10000,10000))/10\n",
    "plt.plot(x,sigmoid(x,delta))"
   ]
  },
  {
   "cell_type": "markdown",
   "metadata": {},
   "source": [
    "For the inner loop controller it is nessessary to obtain desired angles of rotation expressed in the global frame $\\chi$. Because of that the desired angular velocities should be expressed as rate of changes of Euler's angles:\n",
    "\n",
    "$$\n",
    "\\begin{align}\n",
    "\\dot{\\chi}_d = J^b_a \\cdot \\kappa \\cdot k_\\kappa \\cdot \\hat{\\alpha}^a\n",
    "\\end{align}\n",
    "$$\n"
   ]
  },
  {
   "cell_type": "markdown",
   "metadata": {},
   "source": [
    "Finally let assume that to obtain desired Euler angles, the desired rate of change of the angles $\\dot{\\chi}_d$ should last $1 s$:\n",
    "\n",
    "$$\n",
    "\\begin{align}\n",
    "\\chi_d = \\dot{\\chi}_d \\cdot 1\n",
    "\\end{align}\n",
    "$$"
   ]
  },
  {
   "cell_type": "markdown",
   "metadata": {},
   "source": [
    "Implement the proposed outer loop algorithm and try to answer the following questions.\n",
    "\n",
    "1. Is it neseccary to use all 3 desired Euler angles calculated in outer loop? Motivate your answer.\n",
    "2. Is it possible to use proposed algorithm to implement trajectory following task? Alternatively, under what conditions?"
   ]
  },
  {
   "cell_type": "code",
   "execution_count": 19,
   "metadata": {},
   "outputs": [
    {
     "data": {
      "text/latex": [
       "$\\displaystyle \\left[\\begin{matrix}0\\\\0\\\\0\\end{matrix}\\right]$"
      ],
      "text/plain": [
       "Matrix([\n",
       "[0],\n",
       "[0],\n",
       "[0]])"
      ]
     },
     "execution_count": 19,
     "metadata": {},
     "output_type": "execute_result"
    }
   ],
   "source": [
    "Matrix([[0], [0], [0]])"
   ]
  },
  {
   "cell_type": "code",
   "execution_count": 116,
   "metadata": {},
   "outputs": [],
   "source": [
    "@log_results\n",
    "def ctrl(t,state,traj):\n",
    "    x,y,z,phi,tta,psi,u,v,w,p,q,r = state\n",
    "    gamaa = Matrix([u,v,w,p,q,r])\n",
    "    xd,yd,zd,phid,ttad,psid,ud,vd,wd,pd,qd,rd = traj\n",
    "    Mn = M_num\n",
    "    Gn = G_num(phi,tta,u,v,w,p,q,r)\n",
    "    Cn = C_num(p,q,r)\n",
    "    Etan = Eta_num(phi,tta,psi)\n",
    "    iBn = iB_num\n",
    "    Rabn = Rab_num(phi,tta,psi)\n",
    "    Rban = Rba_num(phi,tta,psi)\n",
    "    Jban = Jba_num(phi,tta,psi)\n",
    "\n",
    "\n",
    "    #error\n",
    "    ep = np.array([xd-x, yd - y, zd - z])\n",
    "    # derivative of error\n",
    "    edp = -1*Rabn@np.array([u, v, w])\n",
    "    a = np.array([0, 0, 1])\n",
    "    b = ep + edp\n",
    "    ab = np.cross(a, b, axis=0)\n",
    "    print(ab)\n",
    "    print(np.linalg.norm(ab))\n",
    "    adb = ab/np.linalg.norm(ab)\n",
    "    ada = Rabn * adb \n",
    "    \n",
    "    Xd = Jban * K * sigmoid(K, 10)*ada\n",
    "   ## your code here\n",
    "    gamad = Matrix([ud,vd,wd,pd,qd,rd])\n",
    "    #Kdyn = np.random.rand(6, 6)\n",
    "    Kdyn = np.eye(6, dtype=int)\n",
    "    ey = gamad - gamaa\n",
    "    tau = Mn @ Kdyn @ ey - Gn + Cn @ gamaa\n",
    "        \n",
    "    engines_omega = iBn@tau[2:6]\n",
    "    return engines_omega\n"
   ]
  },
  {
   "cell_type": "code",
   "execution_count": 113,
   "metadata": {},
   "outputs": [
    {
     "data": {
      "text/plain": [
       "2.23606797749979"
      ]
     },
     "execution_count": 113,
     "metadata": {},
     "output_type": "execute_result"
    }
   ],
   "source": [
    "np.linalg.norm(np.array([1,2]))"
   ]
  },
  {
   "cell_type": "markdown",
   "metadata": {},
   "source": [
    "## Exerciese 4:\n",
    "Perform simulations for different trajectories and initial state. Analyze the results."
   ]
  },
  {
   "cell_type": "code",
   "execution_count": 111,
   "metadata": {},
   "outputs": [],
   "source": [
    "@log_results\n",
    "def traj(t,state):\n",
    "    xd = 10\n",
    "    yd = 20\n",
    "    zd = 0\n",
    "    phid = 0\n",
    "    ttad = 0.1\n",
    "    psid = 1\n",
    "    ud = 0\n",
    "    vd = 0\n",
    "    wd = 0\n",
    "    pd = 0\n",
    "    qd = 0\n",
    "    rd = 0\n",
    "    traj = [xd,yd,zd,phid,ttad,psid,ud,vd,wd,pd,qd,rd]\n",
    "    return traj"
   ]
  },
  {
   "cell_type": "code",
   "execution_count": 117,
   "metadata": {},
   "outputs": [
    {
     "name": "stdout",
     "output_type": "stream",
     "text": [
      "[-27.   0.   0.]\n",
      "27.0\n"
     ]
    },
    {
     "ename": "NameError",
     "evalue": "name 'K' is not defined",
     "output_type": "error",
     "traceback": [
      "\u001b[0;31m---------------------------------------------------------------------------\u001b[0m",
      "\u001b[0;31mNameError\u001b[0m                                 Traceback (most recent call last)",
      "\u001b[0;32m<ipython-input-117-b206e047563d>\u001b[0m in \u001b[0;36m<module>\u001b[0;34m\u001b[0m\n\u001b[1;32m      1\u001b[0m \u001b[0mstate0\u001b[0m \u001b[0;34m=\u001b[0m \u001b[0;34m[\u001b[0m\u001b[0;36m10\u001b[0m\u001b[0;34m,\u001b[0m\u001b[0;34m-\u001b[0m\u001b[0;36m7\u001b[0m\u001b[0;34m,\u001b[0m\u001b[0;36m1\u001b[0m\u001b[0;34m,\u001b[0m\u001b[0;36m0.1\u001b[0m\u001b[0;34m,\u001b[0m\u001b[0;34m-\u001b[0m\u001b[0;36m0.2\u001b[0m\u001b[0;34m,\u001b[0m\u001b[0;34m-\u001b[0m\u001b[0;36m0.3\u001b[0m\u001b[0;34m,\u001b[0m\u001b[0;36m0\u001b[0m\u001b[0;34m,\u001b[0m\u001b[0;36m0\u001b[0m\u001b[0;34m,\u001b[0m\u001b[0;36m0\u001b[0m\u001b[0;34m,\u001b[0m\u001b[0;36m0\u001b[0m\u001b[0;34m,\u001b[0m\u001b[0;36m0\u001b[0m\u001b[0;34m,\u001b[0m\u001b[0;36m0\u001b[0m\u001b[0;34m]\u001b[0m\u001b[0;34m\u001b[0m\u001b[0;34m\u001b[0m\u001b[0m\n\u001b[0;32m----> 2\u001b[0;31m \u001b[0msim\u001b[0m \u001b[0;34m=\u001b[0m \u001b[0msolve_ivp\u001b[0m\u001b[0;34m(\u001b[0m\u001b[0mquadrotor\u001b[0m\u001b[0;34m,\u001b[0m\u001b[0;34m[\u001b[0m\u001b[0;36m0\u001b[0m\u001b[0;34m,\u001b[0m\u001b[0;36m100\u001b[0m\u001b[0;34m]\u001b[0m\u001b[0;34m,\u001b[0m\u001b[0mstate0\u001b[0m\u001b[0;34m,\u001b[0m\u001b[0mmax_step\u001b[0m\u001b[0;34m=\u001b[0m\u001b[0;36m1\u001b[0m\u001b[0;34m)\u001b[0m\u001b[0;34m\u001b[0m\u001b[0;34m\u001b[0m\u001b[0m\n\u001b[0m\u001b[1;32m      3\u001b[0m \u001b[0mplot_results\u001b[0m\u001b[0;34m(\u001b[0m\u001b[0msim\u001b[0m\u001b[0;34m,\u001b[0m\u001b[0mctrl\u001b[0m\u001b[0;34m,\u001b[0m\u001b[0mtraj\u001b[0m\u001b[0;34m)\u001b[0m\u001b[0;34m\u001b[0m\u001b[0;34m\u001b[0m\u001b[0m\n",
      "\u001b[0;32m/srv/conda/envs/notebook/lib/python3.7/site-packages/scipy/integrate/_ivp/ivp.py\u001b[0m in \u001b[0;36msolve_ivp\u001b[0;34m(fun, t_span, y0, method, t_eval, dense_output, events, vectorized, args, **options)\u001b[0m\n\u001b[1;32m    541\u001b[0m         \u001b[0mmethod\u001b[0m \u001b[0;34m=\u001b[0m \u001b[0mMETHODS\u001b[0m\u001b[0;34m[\u001b[0m\u001b[0mmethod\u001b[0m\u001b[0;34m]\u001b[0m\u001b[0;34m\u001b[0m\u001b[0;34m\u001b[0m\u001b[0m\n\u001b[1;32m    542\u001b[0m \u001b[0;34m\u001b[0m\u001b[0m\n\u001b[0;32m--> 543\u001b[0;31m     \u001b[0msolver\u001b[0m \u001b[0;34m=\u001b[0m \u001b[0mmethod\u001b[0m\u001b[0;34m(\u001b[0m\u001b[0mfun\u001b[0m\u001b[0;34m,\u001b[0m \u001b[0mt0\u001b[0m\u001b[0;34m,\u001b[0m \u001b[0my0\u001b[0m\u001b[0;34m,\u001b[0m \u001b[0mtf\u001b[0m\u001b[0;34m,\u001b[0m \u001b[0mvectorized\u001b[0m\u001b[0;34m=\u001b[0m\u001b[0mvectorized\u001b[0m\u001b[0;34m,\u001b[0m \u001b[0;34m**\u001b[0m\u001b[0moptions\u001b[0m\u001b[0;34m)\u001b[0m\u001b[0;34m\u001b[0m\u001b[0;34m\u001b[0m\u001b[0m\n\u001b[0m\u001b[1;32m    544\u001b[0m \u001b[0;34m\u001b[0m\u001b[0m\n\u001b[1;32m    545\u001b[0m     \u001b[0;32mif\u001b[0m \u001b[0mt_eval\u001b[0m \u001b[0;32mis\u001b[0m \u001b[0;32mNone\u001b[0m\u001b[0;34m:\u001b[0m\u001b[0;34m\u001b[0m\u001b[0;34m\u001b[0m\u001b[0m\n",
      "\u001b[0;32m/srv/conda/envs/notebook/lib/python3.7/site-packages/scipy/integrate/_ivp/rk.py\u001b[0m in \u001b[0;36m__init__\u001b[0;34m(self, fun, t0, y0, t_bound, max_step, rtol, atol, vectorized, first_step, **extraneous)\u001b[0m\n\u001b[1;32m     93\u001b[0m         \u001b[0mself\u001b[0m\u001b[0;34m.\u001b[0m\u001b[0mmax_step\u001b[0m \u001b[0;34m=\u001b[0m \u001b[0mvalidate_max_step\u001b[0m\u001b[0;34m(\u001b[0m\u001b[0mmax_step\u001b[0m\u001b[0;34m)\u001b[0m\u001b[0;34m\u001b[0m\u001b[0;34m\u001b[0m\u001b[0m\n\u001b[1;32m     94\u001b[0m         \u001b[0mself\u001b[0m\u001b[0;34m.\u001b[0m\u001b[0mrtol\u001b[0m\u001b[0;34m,\u001b[0m \u001b[0mself\u001b[0m\u001b[0;34m.\u001b[0m\u001b[0matol\u001b[0m \u001b[0;34m=\u001b[0m \u001b[0mvalidate_tol\u001b[0m\u001b[0;34m(\u001b[0m\u001b[0mrtol\u001b[0m\u001b[0;34m,\u001b[0m \u001b[0matol\u001b[0m\u001b[0;34m,\u001b[0m \u001b[0mself\u001b[0m\u001b[0;34m.\u001b[0m\u001b[0mn\u001b[0m\u001b[0;34m)\u001b[0m\u001b[0;34m\u001b[0m\u001b[0;34m\u001b[0m\u001b[0m\n\u001b[0;32m---> 95\u001b[0;31m         \u001b[0mself\u001b[0m\u001b[0;34m.\u001b[0m\u001b[0mf\u001b[0m \u001b[0;34m=\u001b[0m \u001b[0mself\u001b[0m\u001b[0;34m.\u001b[0m\u001b[0mfun\u001b[0m\u001b[0;34m(\u001b[0m\u001b[0mself\u001b[0m\u001b[0;34m.\u001b[0m\u001b[0mt\u001b[0m\u001b[0;34m,\u001b[0m \u001b[0mself\u001b[0m\u001b[0;34m.\u001b[0m\u001b[0my\u001b[0m\u001b[0;34m)\u001b[0m\u001b[0;34m\u001b[0m\u001b[0;34m\u001b[0m\u001b[0m\n\u001b[0m\u001b[1;32m     96\u001b[0m         \u001b[0;32mif\u001b[0m \u001b[0mfirst_step\u001b[0m \u001b[0;32mis\u001b[0m \u001b[0;32mNone\u001b[0m\u001b[0;34m:\u001b[0m\u001b[0;34m\u001b[0m\u001b[0;34m\u001b[0m\u001b[0m\n\u001b[1;32m     97\u001b[0m             self.h_abs = select_initial_step(\n",
      "\u001b[0;32m/srv/conda/envs/notebook/lib/python3.7/site-packages/scipy/integrate/_ivp/base.py\u001b[0m in \u001b[0;36mfun\u001b[0;34m(t, y)\u001b[0m\n\u001b[1;32m    137\u001b[0m         \u001b[0;32mdef\u001b[0m \u001b[0mfun\u001b[0m\u001b[0;34m(\u001b[0m\u001b[0mt\u001b[0m\u001b[0;34m,\u001b[0m \u001b[0my\u001b[0m\u001b[0;34m)\u001b[0m\u001b[0;34m:\u001b[0m\u001b[0;34m\u001b[0m\u001b[0;34m\u001b[0m\u001b[0m\n\u001b[1;32m    138\u001b[0m             \u001b[0mself\u001b[0m\u001b[0;34m.\u001b[0m\u001b[0mnfev\u001b[0m \u001b[0;34m+=\u001b[0m \u001b[0;36m1\u001b[0m\u001b[0;34m\u001b[0m\u001b[0;34m\u001b[0m\u001b[0m\n\u001b[0;32m--> 139\u001b[0;31m             \u001b[0;32mreturn\u001b[0m \u001b[0mself\u001b[0m\u001b[0;34m.\u001b[0m\u001b[0mfun_single\u001b[0m\u001b[0;34m(\u001b[0m\u001b[0mt\u001b[0m\u001b[0;34m,\u001b[0m \u001b[0my\u001b[0m\u001b[0;34m)\u001b[0m\u001b[0;34m\u001b[0m\u001b[0;34m\u001b[0m\u001b[0m\n\u001b[0m\u001b[1;32m    140\u001b[0m \u001b[0;34m\u001b[0m\u001b[0m\n\u001b[1;32m    141\u001b[0m         \u001b[0mself\u001b[0m\u001b[0;34m.\u001b[0m\u001b[0mfun\u001b[0m \u001b[0;34m=\u001b[0m \u001b[0mfun\u001b[0m\u001b[0;34m\u001b[0m\u001b[0;34m\u001b[0m\u001b[0m\n",
      "\u001b[0;32m/srv/conda/envs/notebook/lib/python3.7/site-packages/scipy/integrate/_ivp/base.py\u001b[0m in \u001b[0;36mfun_wrapped\u001b[0;34m(t, y)\u001b[0m\n\u001b[1;32m     19\u001b[0m \u001b[0;34m\u001b[0m\u001b[0m\n\u001b[1;32m     20\u001b[0m     \u001b[0;32mdef\u001b[0m \u001b[0mfun_wrapped\u001b[0m\u001b[0;34m(\u001b[0m\u001b[0mt\u001b[0m\u001b[0;34m,\u001b[0m \u001b[0my\u001b[0m\u001b[0;34m)\u001b[0m\u001b[0;34m:\u001b[0m\u001b[0;34m\u001b[0m\u001b[0;34m\u001b[0m\u001b[0m\n\u001b[0;32m---> 21\u001b[0;31m         \u001b[0;32mreturn\u001b[0m \u001b[0mnp\u001b[0m\u001b[0;34m.\u001b[0m\u001b[0masarray\u001b[0m\u001b[0;34m(\u001b[0m\u001b[0mfun\u001b[0m\u001b[0;34m(\u001b[0m\u001b[0mt\u001b[0m\u001b[0;34m,\u001b[0m \u001b[0my\u001b[0m\u001b[0;34m)\u001b[0m\u001b[0;34m,\u001b[0m \u001b[0mdtype\u001b[0m\u001b[0;34m=\u001b[0m\u001b[0mdtype\u001b[0m\u001b[0;34m)\u001b[0m\u001b[0;34m\u001b[0m\u001b[0;34m\u001b[0m\u001b[0m\n\u001b[0m\u001b[1;32m     22\u001b[0m \u001b[0;34m\u001b[0m\u001b[0m\n\u001b[1;32m     23\u001b[0m     \u001b[0;32mreturn\u001b[0m \u001b[0mfun_wrapped\u001b[0m\u001b[0;34m,\u001b[0m \u001b[0my0\u001b[0m\u001b[0;34m\u001b[0m\u001b[0;34m\u001b[0m\u001b[0m\n",
      "\u001b[0;32m<ipython-input-9-c2f2c7af9389>\u001b[0m in \u001b[0;36mquadrotor\u001b[0;34m(t, state)\u001b[0m\n\u001b[1;32m      1\u001b[0m \u001b[0;32mdef\u001b[0m \u001b[0mquadrotor\u001b[0m\u001b[0;34m(\u001b[0m\u001b[0mt\u001b[0m\u001b[0;34m,\u001b[0m\u001b[0mstate\u001b[0m\u001b[0;34m)\u001b[0m\u001b[0;34m:\u001b[0m\u001b[0;34m\u001b[0m\u001b[0;34m\u001b[0m\u001b[0m\n\u001b[1;32m      2\u001b[0m     \u001b[0mtr\u001b[0m \u001b[0;34m=\u001b[0m \u001b[0mtraj\u001b[0m\u001b[0;34m(\u001b[0m\u001b[0mt\u001b[0m\u001b[0;34m,\u001b[0m\u001b[0mstate\u001b[0m\u001b[0;34m)\u001b[0m\u001b[0;34m\u001b[0m\u001b[0;34m\u001b[0m\u001b[0m\n\u001b[0;32m----> 3\u001b[0;31m     \u001b[0mengines_omega\u001b[0m \u001b[0;34m=\u001b[0m \u001b[0mctrl\u001b[0m\u001b[0;34m(\u001b[0m\u001b[0mt\u001b[0m\u001b[0;34m,\u001b[0m\u001b[0mstate\u001b[0m\u001b[0;34m,\u001b[0m\u001b[0mtr\u001b[0m\u001b[0;34m)\u001b[0m\u001b[0;34m\u001b[0m\u001b[0;34m\u001b[0m\u001b[0m\n\u001b[0m\u001b[1;32m      4\u001b[0m     \u001b[0mx\u001b[0m\u001b[0;34m,\u001b[0m\u001b[0my\u001b[0m\u001b[0;34m,\u001b[0m\u001b[0mz\u001b[0m\u001b[0;34m,\u001b[0m\u001b[0mphi\u001b[0m\u001b[0;34m,\u001b[0m\u001b[0mtta\u001b[0m\u001b[0;34m,\u001b[0m\u001b[0mpsi\u001b[0m\u001b[0;34m,\u001b[0m\u001b[0mu\u001b[0m\u001b[0;34m,\u001b[0m\u001b[0mv\u001b[0m\u001b[0;34m,\u001b[0m\u001b[0mw\u001b[0m\u001b[0;34m,\u001b[0m\u001b[0mp\u001b[0m\u001b[0;34m,\u001b[0m\u001b[0mq\u001b[0m\u001b[0;34m,\u001b[0m\u001b[0mr\u001b[0m \u001b[0;34m=\u001b[0m \u001b[0mstate\u001b[0m\u001b[0;34m\u001b[0m\u001b[0;34m\u001b[0m\u001b[0m\n\u001b[1;32m      5\u001b[0m     \u001b[0mom1\u001b[0m\u001b[0;34m,\u001b[0m\u001b[0mom2\u001b[0m\u001b[0;34m,\u001b[0m\u001b[0mom3\u001b[0m\u001b[0;34m,\u001b[0m\u001b[0mom4\u001b[0m \u001b[0;34m=\u001b[0m \u001b[0mengines_omega\u001b[0m\u001b[0;34m\u001b[0m\u001b[0;34m\u001b[0m\u001b[0m\n",
      "\u001b[0;32m<ipython-input-3-bf4dfea13de0>\u001b[0m in \u001b[0;36mw_dec\u001b[0;34m(*args, **kwargs)\u001b[0m\n\u001b[1;32m      2\u001b[0m     \u001b[0;34m@\u001b[0m\u001b[0mfunctools\u001b[0m\u001b[0;34m.\u001b[0m\u001b[0mwraps\u001b[0m\u001b[0;34m(\u001b[0m\u001b[0mfunc\u001b[0m\u001b[0;34m)\u001b[0m\u001b[0;34m\u001b[0m\u001b[0;34m\u001b[0m\u001b[0m\n\u001b[1;32m      3\u001b[0m     \u001b[0;32mdef\u001b[0m \u001b[0mw_dec\u001b[0m\u001b[0;34m(\u001b[0m\u001b[0;34m*\u001b[0m\u001b[0margs\u001b[0m\u001b[0;34m,\u001b[0m \u001b[0;34m**\u001b[0m\u001b[0mkwargs\u001b[0m\u001b[0;34m)\u001b[0m\u001b[0;34m:\u001b[0m\u001b[0;34m\u001b[0m\u001b[0;34m\u001b[0m\u001b[0m\n\u001b[0;32m----> 4\u001b[0;31m         \u001b[0mres\u001b[0m \u001b[0;34m=\u001b[0m \u001b[0mfunc\u001b[0m\u001b[0;34m(\u001b[0m\u001b[0;34m*\u001b[0m\u001b[0margs\u001b[0m\u001b[0;34m,\u001b[0m \u001b[0;34m**\u001b[0m\u001b[0mkwargs\u001b[0m\u001b[0;34m)\u001b[0m\u001b[0;34m\u001b[0m\u001b[0;34m\u001b[0m\u001b[0m\n\u001b[0m\u001b[1;32m      5\u001b[0m         \u001b[0mt_old\u001b[0m \u001b[0;34m=\u001b[0m \u001b[0;34m-\u001b[0m\u001b[0;36m1\u001b[0m \u001b[0;32mif\u001b[0m \u001b[0mlen\u001b[0m\u001b[0;34m(\u001b[0m\u001b[0mw_dec\u001b[0m\u001b[0;34m.\u001b[0m\u001b[0mt\u001b[0m\u001b[0;34m)\u001b[0m \u001b[0;34m==\u001b[0m \u001b[0;36m0\u001b[0m \u001b[0;32melse\u001b[0m \u001b[0mw_dec\u001b[0m\u001b[0;34m.\u001b[0m\u001b[0mt\u001b[0m\u001b[0;34m[\u001b[0m\u001b[0;34m-\u001b[0m\u001b[0;36m1\u001b[0m\u001b[0;34m]\u001b[0m\u001b[0;34m\u001b[0m\u001b[0;34m\u001b[0m\u001b[0m\n\u001b[1;32m      6\u001b[0m         \u001b[0mt_new\u001b[0m \u001b[0;34m=\u001b[0m \u001b[0margs\u001b[0m\u001b[0;34m[\u001b[0m\u001b[0;36m0\u001b[0m\u001b[0;34m]\u001b[0m\u001b[0;34m\u001b[0m\u001b[0;34m\u001b[0m\u001b[0m\n",
      "\u001b[0;32m<ipython-input-116-5bdf69e52799>\u001b[0m in \u001b[0;36mctrl\u001b[0;34m(t, state, traj)\u001b[0m\n\u001b[1;32m     26\u001b[0m     \u001b[0mada\u001b[0m \u001b[0;34m=\u001b[0m \u001b[0mRabn\u001b[0m \u001b[0;34m*\u001b[0m \u001b[0madb\u001b[0m\u001b[0;34m\u001b[0m\u001b[0;34m\u001b[0m\u001b[0m\n\u001b[1;32m     27\u001b[0m \u001b[0;34m\u001b[0m\u001b[0m\n\u001b[0;32m---> 28\u001b[0;31m     \u001b[0mXd\u001b[0m \u001b[0;34m=\u001b[0m \u001b[0mJban\u001b[0m \u001b[0;34m*\u001b[0m \u001b[0mK\u001b[0m \u001b[0;34m*\u001b[0m \u001b[0msigmoid\u001b[0m\u001b[0;34m(\u001b[0m\u001b[0mK\u001b[0m\u001b[0;34m,\u001b[0m \u001b[0;36m10\u001b[0m\u001b[0;34m)\u001b[0m\u001b[0;34m*\u001b[0m\u001b[0mada\u001b[0m\u001b[0;34m\u001b[0m\u001b[0;34m\u001b[0m\u001b[0m\n\u001b[0m\u001b[1;32m     29\u001b[0m    \u001b[0;31m## your code here\u001b[0m\u001b[0;34m\u001b[0m\u001b[0;34m\u001b[0m\u001b[0;34m\u001b[0m\u001b[0m\n\u001b[1;32m     30\u001b[0m     \u001b[0mgamad\u001b[0m \u001b[0;34m=\u001b[0m \u001b[0mMatrix\u001b[0m\u001b[0;34m(\u001b[0m\u001b[0;34m[\u001b[0m\u001b[0mud\u001b[0m\u001b[0;34m,\u001b[0m\u001b[0mvd\u001b[0m\u001b[0;34m,\u001b[0m\u001b[0mwd\u001b[0m\u001b[0;34m,\u001b[0m\u001b[0mpd\u001b[0m\u001b[0;34m,\u001b[0m\u001b[0mqd\u001b[0m\u001b[0;34m,\u001b[0m\u001b[0mrd\u001b[0m\u001b[0;34m]\u001b[0m\u001b[0;34m)\u001b[0m\u001b[0;34m\u001b[0m\u001b[0;34m\u001b[0m\u001b[0m\n",
      "\u001b[0;31mNameError\u001b[0m: name 'K' is not defined"
     ]
    }
   ],
   "source": [
    "state0 = [10,-7,1,0.1,-0.2,-0.3,0,0,0,0,0,0]\n",
    "sim = solve_ivp(quadrotor,[0,100],state0,max_step=1)\n",
    "plot_results(sim,ctrl,traj)    "
   ]
  },
  {
   "cell_type": "code",
   "execution_count": null,
   "metadata": {},
   "outputs": [],
   "source": []
  }
 ],
 "metadata": {
  "kernelspec": {
   "display_name": "Python 3",
   "language": "python",
   "name": "python3"
  },
  "language_info": {
   "codemirror_mode": {
    "name": "ipython",
    "version": 3
   },
   "file_extension": ".py",
   "mimetype": "text/x-python",
   "name": "python",
   "nbconvert_exporter": "python",
   "pygments_lexer": "ipython3",
   "version": "3.7.3"
  }
 },
 "nbformat": 4,
 "nbformat_minor": 2
}
