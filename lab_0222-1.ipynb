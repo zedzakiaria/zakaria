{
 "cells": [
  {
   "cell_type": "markdown",
   "metadata": {},
   "source": [
    "$\\LaTeX$ macros\n",
    "$\\newcommand{\\pba}{{p^b_a}}$\n",
    " $\\newcommand{\\dpba}{{\\dot{p}^b_a}}$\n",
    " $\\newcommand{\\pag}{{p^a_g}}$\n",
    " $\\newcommand{\\pav}{{p^a_v}}$\n",
    " $\\newcommand{\\dpag}{{\\dot{p}^a_g}}$\n",
    " $\\newcommand{\\pai}{{p^a_i}}$\n",
    " $\\newcommand{\\dpai}{{\\dot{p}^a_i}}$\n",
    " $\\newcommand{\\pbg}{{p^b_g}}$\n",
    " $\\newcommand{\\dpbg}{{\\dot{p}^b_g}}$\n",
    " $\\newcommand{\\ddpbg}{{\\ddot{p}^b_g}}$\n",
    " $\\newcommand{\\pbi}{{p^b_i}}$\n",
    " $\\newcommand{\\dpbi}{{\\dot{p}^b_i}}$\n",
    " $\\newcommand{\\ddpbi}{{\\ddot{p}^b_i}}$\n",
    " $\\newcommand{\\Rba}{{R^b_a}}$\n",
    " $\\newcommand{\\dRba}{{\\dot{R}{}^b_a}}$\n",
    " $\\newcommand{\\Rab}{{R^a_b}}$\n",
    " $\\newcommand{\\omaa}{{\\omega^a_a}}$\n",
    " $\\newcommand{\\domaa}{{\\dot{\\omega}{}^a_a}}$\n",
    " $\\newcommand{\\Somaa}{{S\\left(\\omega^a_a\\right)}}$\n",
    " $\\newcommand{\\dSomaa}{{S\\left(\\dot{\\omega}{}^a_a\\right)}}$\n",
    " $\\newcommand{\\Spag}{{S\\left(p^a_g\\right)}}$\n",
    " $\\newcommand{\\Spai}{{S\\left(p^a_i\\right)}}$\n",
    " $\\newcommand{\\nuaa}{{\\nu^a_a}}$\n",
    " $\\newcommand{\\dnuaa}{{\\dot{\\nu}{}^a_a}}$\n",
    " $\\newcommand{\\Fb}{{F^b}}$\n",
    " $\\newcommand{\\Fa}{{F^a}}$\n",
    " $\\newcommand{\\Fg}{{F_g}}$\n",
    " $\\newcommand{\\Fv}{{F_v}}$\n",
    " $\\newcommand{\\Ng}{{N_g}}$\n",
    " $\\newcommand{\\Nv}{{N_v}}$\n",
    " $\\newcommand{\\Fe}{{F^{ext}}}$\n",
    " $\\newcommand{\\Na}{{N^a}}$\n",
    " $\\newcommand{\\BM}{\\left[\\begin{matrix}}$\n",
    " $\\newcommand{\\EBM}{\\end{matrix}\\right]}$\n",
    " $\\newcommand{\\gamaa}{{\\gamma^a_a}}$\n",
    " $\\newcommand{\\dgamaa}{{\\dot{\\gamma}{}^a_a}}$\n",
    " $\\newcommand{\\vx}{\\vec{x}}$\n",
    " $\\newcommand{\\vt}{\\vec{\\tau}}$\n",
    " $\\newcommand{\\vn}{\\vec{\\nu}}$\n",
    " $\\newcommand{\\T}{^\\top}$"
   ]
  },
  {
   "cell_type": "markdown",
   "metadata": {},
   "source": [
    "# Lab 02 - Simulation of flying robot\n",
    "\n",
    "In this exercise simulation of a robot flying in 3 dimensions will be implemented."
   ]
  },
  {
   "cell_type": "markdown",
   "metadata": {},
   "source": [
    "## Equations of motion\n",
    "\n",
    "The core of the simulation are the differential equations of motion:\n",
    "\n",
    "$$\n",
    "    \\begin{align}\n",
    "    \\dpba &= \\Rba \\nuaa \\\\\n",
    "    \\dRba &= \\Rba \\Somaa \\\\\n",
    "    \\dgamaa &= M^{-1} \\left(\\Gamma - C \\gamaa \\right)\n",
    "    \\end{align}\n",
    "$$\n",
    "\n",
    "where:\n",
    "\n",
    "$\\pba$ - position vector of point $a$ in frame $b$\n",
    "\n",
    "$\\Rba$ - rotation of frame $a$ in frame $b$\n",
    "\n",
    "$S(a) = \\BM 0 & -a_z & a_y \\\\ a_z & 0 & -a_x \\\\ -a_y & a_x & 0 \\EBM, \\, a = \\BM a_x \\\\ a_y \\\\ a_z \\EBM$\n",
    "\n",
    "$\\nuaa = \\BM u \\\\ v \\\\ w \\EBM$ - vector of linear velocities of frame $a$ (in respect to inertial frame) expressed in frame $a$\n",
    "\n",
    "$\\omaa = \\BM p \\\\ q \\\\ r \\EBM$ - vector of angular velocities of frame $a$ (in respect to inertial frame) expressed in frame $a$\n",
    "\n",
    "$\\Fa$ - forces expressed in the local frame $a$\n",
    "\n",
    "$\\Na$ - torques expressed in the local frame $a$\n",
    "\n",
    "$\\pag$ - position of the center of mass in frame $a$\n",
    "\n",
    "$m$ - mass of the simulated object\n",
    "\n",
    "$I$ - inertia tensor of the simulated object\n",
    "\n",
    "$$\n",
    " \\begin{align}\n",
    "  \\gamaa \\triangleq  \\BM \\nuaa \\\\ \\omaa \\EBM, \\;\n",
    "  \\Gamma &\\triangleq \\BM \\Fa \\\\ \\Na \\EBM\n",
    " \\end{align}\n",
    " $$\n",
    "\n",
    " $$\n",
    " \\begin{align}\n",
    "   M &\\triangleq \\BM M_F \\\\ M_N \\EBM = \\BM m \\cdot 1_{3\\times 3} & -m \\Spag \\\\  m \\Spag & I \\EBM\\\\\n",
    " C(\\omaa) &\\triangleq \\BM C_F \\\\ C_N \\EBM = \\BM m \\Somaa & - m \\Somaa \\Spag \\\\ m \\Spag \\Somaa & - \\Somaa I \\EBM\\\\\n",
    " \\end{align}\n",
    " $$"
   ]
  },
  {
   "cell_type": "markdown",
   "metadata": {},
   "source": [
    "## Helpful tools\n",
    "In the proces of verification of any control algorithm it is imortant to measure and analyze results of simulations and experiments. In the experiments the problem is often difficult because of the measurement equipment errors and sometimes lack of possibility to measure some values. In the simmulations it is importent to implement mechanisms for logging all the nesseccary values, and methods to automaticly analyze them.\n",
    "\n",
    "Below it there is simple example of logging function: ```log_results``` which use decorator pattern (https://www.python.org/dev/peps/pep-0318/). At the begging of this exercise it is important to get familiar with this function. What is worth noting, numerical solvers of differential equations sometimes recalculate results, because of that, in ```log_results``` simple method of data update is implemented. The consequance of that is the neccessity of adding time variable to the input of any decorated function, even if it is not used in the calculations performed by the function.."
   ]
  },
  {
   "cell_type": "markdown",
   "metadata": {},
   "source": [
    "## Initialization of the environment"
   ]
  },
  {
   "cell_type": "code",
   "execution_count": 1,
   "metadata": {},
   "outputs": [],
   "source": [
    "import numpy as np\n",
    "from scipy.integrate import solve_ivp\n",
    "import matplotlib.pyplot as plt\n",
    "from mpl_toolkits.mplot3d import Axes3D\n",
    "import doctest\n",
    "\n",
    "MAT = np.array\n",
    "S = lambda a: MAT([[0, -a[2][0], a[1][0]],[a[2][0], 0, -a[0][0]],[-a[1][0], a[0][0], 0]]) # skew-symmetric matrix"
   ]
  },
  {
   "cell_type": "markdown",
   "metadata": {},
   "source": [
    "## Exercise 1:\n",
    "Analyse the body of the function ```log_results```, test and **understand** its behavior."
   ]
  },
  {
   "cell_type": "code",
   "execution_count": 2,
   "metadata": {},
   "outputs": [],
   "source": [
    "import functools\n",
    "\n",
    "def log_results(func):\n",
    "    @functools.wraps(func)\n",
    "    def w_dec(*args, **kwargs):\n",
    "        res = func(*args, **kwargs)\n",
    "        t_old = -1 if len(w_dec.t) == 0 else w_dec.t[-1]\n",
    "        t_new = args[0]\n",
    "        if t_new > t_old:\n",
    "            w_dec.log.append(res)\n",
    "            w_dec.t.append(args[0])\n",
    "        else:\n",
    "            f = filter(lambda x: x >= t_new, w_dec.t)\n",
    "            idx = w_dec.t.index(next(f))\n",
    "            w_dec.log = w_dec.log[0:idx]+[res]\n",
    "            w_dec.t = w_dec.t[0:idx]+[t_new]\n",
    "        return res\n",
    "    w_dec.log = []\n",
    "    w_dec.t = []\n",
    "    return w_dec"
   ]
  },
  {
   "cell_type": "markdown",
   "metadata": {},
   "source": [
    "Execute funtion ```decorator_test``` a few times and print it results to verify your understanding of it."
   ]
  },
  {
   "cell_type": "code",
   "execution_count": 3,
   "metadata": {},
   "outputs": [
    {
     "name": "stdout",
     "output_type": "stream",
     "text": [
      "[array([9, 6])]\n",
      "[1]\n",
      "[array([9, 6]), array([9, 6])]\n",
      "[1, 2]\n",
      "[array([9, 6]), array([9, 6])]\n",
      "[0, 1]\n",
      "[array([9, 6]), array([9, 6])]\n",
      "[0, 1]\n"
     ]
    }
   ],
   "source": [
    "@log_results\n",
    "def decorator_test(t,x):\n",
    "    return MAT([x ** 2, x * 2])\n",
    "\n",
    "# write your code here\n",
    "t = 1\n",
    "decorator_test(t, 3)\n",
    "print(decorator_test.log)\n",
    "print(decorator_test.t)\n",
    "# write your code here\n",
    "t = 2\n",
    "decorator_test(t, 3)\n",
    "print(decorator_test.log)\n",
    "print(decorator_test.t)\n",
    "# write your code here\n",
    "t = 3\n",
    "decorator_test(0, 3)\n",
    "decorator_test(1, 3)\n",
    "decorator_test(2, 3)\n",
    "decorator_test(1, 3)\n",
    "print(decorator_test.log)\n",
    "print(decorator_test.t)\n",
    "# write your code here\n",
    "t = 1\n",
    "decorator_test(t, 3)\n",
    "print(decorator_test.log)\n",
    "print(decorator_test.t)"
   ]
  },
  {
   "cell_type": "markdown",
   "metadata": {},
   "source": [
    "## Exercise 2:\n",
    "Define all constant parameters:\n",
    "- standard acceleration due to gravity: $g = 9.81 \\frac{m}{s^2}$\n",
    "- density of air: $\\rho_{air} = 1.225 \\frac{kg}{m^3}$\n",
    "- mass of the simulated robot: $m = 10 kg$\n",
    "- volume of the simulated robot: $V = 0.01 m^3$\n",
    "- inertia tensor in the local frame: $I = \\BM 1 & 0 & 0 \\\\ 0 & 1 & 0 \\\\0 & 0 & 1\\\\ \\EBM$\n",
    "- matrix of aerodynamical coefficients: $C_a = \\BM -5 & 0 & 0 & 0 & 0 & 0\\\\ \n",
    "                                                   0 & -5 & 0 & 0 & 0 & 0\\\\ \n",
    "                                                   0 & 0 & -5 & 0 & 0 & 0\\\\ \n",
    "                                                   0 & 0 & 0 & -5 & 0 & 0\\\\ \n",
    "                                                   0 & 0 & 0 & 0 & -5 & 0\\\\ \n",
    "                                                   0 & 0 & 0 & 0 & 0 & -5\\\\ \\EBM$\n",
    "\n",
    "\n",
    "**Assumption**: center of gravity, center of volume and origin of the local frame coincide.\n",
    "\n",
    "Taking into account above assumption define also mass matrix (and its inversion) and function calculating matrix of Coriolis and centrifugal forces.\n",
    "\n",
    "It can be helpful to use functions ```eye```, ```concatenate``` and ```linalg.inv``` from ```numpy``` library."
   ]
  },
  {
   "cell_type": "code",
   "execution_count": 4,
   "metadata": {},
   "outputs": [
    {
     "name": "stdout",
     "output_type": "stream",
     "text": [
      "[[0 array([-60]) array([50]) 0 array([0]) array([0])]\n",
      " [array([60]) 0 array([-40]) array([0]) 0 array([0])]\n",
      " [array([-50]) array([40]) 0 array([0]) array([0]) 0]\n",
      " [0 array([0]) array([0]) 0 array([0]) array([0])]\n",
      " [array([0]) 0 array([0]) array([0]) 0 array([0])]\n",
      " [array([0]) array([0]) 0 array([0]) array([0]) 0]]\n"
     ]
    },
    {
     "data": {
      "text/plain": [
       "TestResults(failed=0, attempted=0)"
      ]
     },
     "execution_count": 4,
     "metadata": {},
     "output_type": "execute_result"
    }
   ],
   "source": [
    "## write your code here\n",
    "# standard acceleration\n",
    "G = 9.81\n",
    "# density of air\n",
    "rho_air = 1.225\n",
    "# mass\n",
    "m = 10\n",
    "# volume\n",
    "V = 0.01\n",
    "# inertia tensor\n",
    "I = MAT([[1, 0, 0],[0,1,0],[0,0,1]])\n",
    "# matrix of aerodynamical coefficients\n",
    "Ca = np.zeros((6,6), int)\n",
    "np.fill_diagonal(Ca, -5)\n",
    "# position of the center of gravity in the local frame\n",
    "pag = MAT([0,0,0])\n",
    "# position of the center of volume in the local frame\n",
    "pav = MAT([0,0,0])\n",
    "# mass matrix and its inversion\n",
    "S = np.zeros((3,3), int)\n",
    "MF =np.concatenate((m*I, -m*S), 1)\n",
    "MN = np.concatenate((m*S, I),1)\n",
    "M = np.concatenate((MF, MN), 0)\n",
    "iM = np.linalg.inv(M) \n",
    "# matrix of Coriolis and centrifugal forces\n",
    "@log_results\n",
    "def C(t,gamma):\n",
    "    \n",
    "  #  Coriolis and centrifugal forces\n",
    "\n",
    "    \n",
    "  \n",
    "    omaa = gamma[3:6]\n",
    "    ## write your code here\n",
    "    Som = MAT([[0, -omaa[2], omaa[1]], [omaa[2], 0, -omaa[0]], [-omaa[1], omaa[0], 0]])\n",
    "    #print(Som)\n",
    "    CF = np.concatenate((m*Som, -m*Som*S), 1)\n",
    "    CN = np.concatenate((m*S*Som, -Som*I), 1)\n",
    "    C = np.concatenate((CF, CN), 0)\n",
    "    return C\n",
    "########################\n",
    "gamma = MAT([[1,2,3,4,5,6]]).T\n",
    "#C(0,gamma).shape(6, 6)\n",
    "print(C(1, gamma))\n",
    "doctest.testmod()"
   ]
  },
  {
   "cell_type": "markdown",
   "metadata": {},
   "source": [
    "## Exercise 3:\n",
    "Let define variables:\n",
    "- vector of desired state and velocities: $\\xi_d = \\BM \\pba_d & \\vec{\\Rba_d} & \\gamaa_d \\EBM\\T$, where $\\vec{\\Rba_d}$ is $\\Rba_d$ reshaped into dimension $9 \\times 1$. It is neccessary for the implementation.\n",
    "- vector of states, velocities and integral of errors:\n",
    "$xi=\\BM \\pba & \\vec{\\Rba} & \\gamaa & \\epsilon_i \\EBM\\T$, where $\\vec{\\Rba}$ is $\\Rba$ reshaped into dimension $9 \\times 1$ and\n",
    "$$\n",
    "\\begin{align}\n",
    "\\epsilon_i = \\int \\left(\\xi_d - \\BM \\pba \\\\ \\vec{\\Rba} \\\\ \\gamaa \\EBM\\right) dt\n",
    "\\end{align}\n",
    "$$\n",
    "variable $\\epsilon_i$ is introduced to help with implementation of integral controller.\n",
    "\n",
    "Next, let implement basic controller functions:"
   ]
  },
  {
   "cell_type": "code",
   "execution_count": 131,
   "metadata": {},
   "outputs": [
    {
     "data": {
      "text/plain": [
       "TestResults(failed=0, attempted=6)"
      ]
     },
     "execution_count": 131,
     "metadata": {},
     "output_type": "execute_result"
    }
   ],
   "source": [
    "@log_results\n",
    "def controller(t, xi, xid):\n",
    "    \"\"\"\n",
    "    Controller function.\n",
    "\n",
    "    >>> xi = np.zeros((36,1))\n",
    "    >>> xid = np.zeros((18,1)); \n",
    "    >>> controller(0,xi,xid).shape\n",
    "    (6, 1)\n",
    "    \"\"\"\n",
    "    # x, y, z, R11,R12,R13,R21,R22,R23,R31,R32,R33, u, v, w, p, q, r = xi\n",
    "    x, y, z, R11,R12,R13,R21,R22,R23,R31,R32,R33, u, v, w, p, q, r = xi[0:18]\n",
    "    iex, iey, iez, ieR11,ieR12,ieR13,ieR21,ieR22,ieR23,ieR31,ieR32,ieR33, ieu, iev, iew, iep, ieq, ier  = xi[18:36]\n",
    "    pba = MAT([x,y,z])\n",
    "    Rba = MAT([R11,R12,R13,R21,R22,R23,R31,R32,R33]).reshape(3,3)\n",
    "    gamma = MAT([u,v,w,p,q,r])\n",
    "    vaa = MAT([u,v,w])\n",
    "    omaa = MAT([p,q,r])\n",
    "\n",
    "    xd, yd, zd, R11d,R12d,R13d,R21d,R22d,R23d,R31d,R32d,R33d, ud, vd, wd, pd, qd, rd = xid\n",
    "    pbad = MAT([xd,yd,zd])\n",
    "    Rbad = MAT([R11d,R12d,R13d,R21d,R22d,R23d,R31d,R32d,R33d]).reshape(3,3)\n",
    "    gammad = MAT([ud,vd,wd,pd,qd,rd])\n",
    "    vaad = MAT([ud,vd,wd])\n",
    "    omaad = MAT([pd,qd,rd])\n",
    "\n",
    "    tauu = 0\n",
    "    tauv = 0\n",
    "    tauw = 0\n",
    "    taup = 0\n",
    "    tauq = 0\n",
    "    taur = 0\n",
    "\n",
    "    \n",
    "    tau = MAT([[tauu,tauv,tauw,taup,tauq,taur]]).T\n",
    "    return tau\n",
    "\n",
    "doctest.testmod()    "
   ]
  },
  {
   "cell_type": "markdown",
   "metadata": {},
   "source": [
    "Trajectory generator function can be tested independen, because of that change below basic trajectory generator to create positional trajectory in the form of helix of given radius, and velocity of ascenndence. Than implement basic visualisation of generated trajectory in 3 dimensional space (https://matplotlib.org/tutorials/toolkits/mplot3d.html)."
   ]
  },
  {
   "cell_type": "code",
   "execution_count": 52,
   "metadata": {},
   "outputs": [
    {
     "name": "stdout",
     "output_type": "stream",
     "text": [
      "(100,)\n"
     ]
    },
    {
     "data": {
      "text/plain": [
       "TestResults(failed=0, attempted=6)"
      ]
     },
     "execution_count": 52,
     "metadata": {},
     "output_type": "execute_result"
    },
    {
     "data": {
      "image/png": "[encoded data removed]",
      "text/plain": [
       "<Figure size 432x288 with 1 Axes>"
      ]
     },
     "metadata": {
      "needs_background": "light"
     },
     "output_type": "display_data"
    }
   ],
   "source": [
    "@log_results\n",
    "def trajectory(t):    \n",
    "    \"\"\"\n",
    "    Trajectory generator function.\n",
    "    pbad - desired position vector\n",
    "    Rbad - desired orientation (in the form of the rotation matrix)\n",
    "    gammad - desired velocieties\n",
    "\n",
    "    >>> trajectory(0).shape\n",
    "    (18, 1)\n",
    "    \"\"\"\n",
    "    xd = np.cos(t)\n",
    "    yd = np.sin(t)\n",
    "    zd = t\n",
    "    Rbad = MAT([\n",
    "        [1, 0, 0],\n",
    "        [0, 1, 0],\n",
    "        [0, 0, 1],\n",
    "    ])\n",
    "    ud = 0\n",
    "    vd = 0\n",
    "    wd = 0\n",
    "    pd = 0\n",
    "    qd = 0\n",
    "    rd = 0\n",
    "    \n",
    "    pbad = MAT([[xd,yd,zd]]).T\n",
    "    vRbad = Rbad.reshape(9, 1)\n",
    "    gammad = MAT([[ud,vd,wd,pd,qd,rd]]).T\n",
    "    xid = np.concatenate([pbad,vRbad,gammad])\n",
    "    return xid\n",
    "\n",
    "for i in range(0,100,1):\n",
    "    t = i*0.1\n",
    "    trajectory(t)\n",
    "\n",
    "print(MAT(trajectory.log).T[0][0].shape)\n",
    "xid = MAT(trajectory.log).T[0]\n",
    "\n",
    "# visualisation\n",
    "## write your code here\n",
    "fig = plt.figure()\n",
    "ax = fig.add_subplot(111, projection='3d')\n",
    "ax.plot(xid[0],xid[1],xid[2])\n",
    "\n",
    "\n",
    "######################\n",
    "doctest.testmod()    "
   ]
  },
  {
   "cell_type": "markdown",
   "metadata": {},
   "source": [
    "## Exercise 4:\n",
    "In this exercise, the influence of the environment on the robot will be implemented. Remembering about the following dependencies, complete the ```external_forces``` function in such a way that the output of the function contains the vector of all external forces (excluding the $\\tau$). **Remember about differences between base/global and local frames.**\n",
    "\n",
    "Gravity:\n",
    " $$\n",
    "    \\begin{align}\n",
    "    \\Fg^b =& \\BM 0 \\\\ 0 \\\\ -m \\cdot g \\EBM \\\\\n",
    "    \\Ng^a =& S(\\pag)\\Fg^a\n",
    "    \\end{align}\n",
    " $$\n",
    " \n",
    " Buoyancy:\n",
    " $$\n",
    " \\begin{align}\n",
    "    \\Fv^b =& \\BM 0 \\\\ 0 \\\\ \\rho_{air} \\cdot g \\cdot V \\EBM \\\\\n",
    "    \\Nv^a =& S(\\pav)\\Fv^a\n",
    " \\end{align}\n",
    "$$\n",
    "\n",
    "Aerodynamical forces:\n",
    "$$\n",
    "\\begin{align}\n",
    "   \\gamma^a_{aw} =& \\gamma^a_a - \\gamma^a_w \\\\\n",
    "   \\Gamma_{aw} =& C_a \\cdot \\text{sign}\\left(\\gamma^a_{aw}\\right) \\circ \\gamma^a_{aw} \\circ \\gamma^a_{aw}\n",
    "\\end{align}\n",
    "$$\n",
    "\n",
    "Assume constant wind."
   ]
  },
  {
   "cell_type": "code",
   "execution_count": 142,
   "metadata": {},
   "outputs": [
    {
     "data": {
      "text/plain": [
       "TestResults(failed=0, attempted=6)"
      ]
     },
     "execution_count": 142,
     "metadata": {},
     "output_type": "execute_result"
    }
   ],
   "source": [
    "# vector of wind velocities expressed in global frame\n",
    "gammab_wind = MAT([[0,1,0,0,0,0]]).T\n",
    "\n",
    "@log_results\n",
    "def external_forces(t,Rba,gamma):\n",
    "    \"\"\"\n",
    "    Calculation of external forces.\n",
    "\n",
    "    >>> external_forces(0,np.eye(3),np.zeros((6,1))).shape\n",
    "    (6, 1)\n",
    "    \"\"\"\n",
    "    Rab = Rba.T\n",
    "\n",
    "    ## write your code here\n",
    "    # gravity\n",
    "    Fbg = MAT([[0, 0, -m*G]]).T\n",
    "    Nag = MAT([S[0]*Fbg[0]]).T\n",
    "    Grav = np.concatenate([Fbg, Nag])\n",
    "    #print(Grav)\n",
    "    #print(Fbg)\n",
    "    # buoyancy\n",
    "    Fbv = MAT([[0, 0, rho_air*G*V]]).T\n",
    "    Nav = MAT([S[0]*Fbv[0]]).T\n",
    "    #print (Fbv)\n",
    "    #print(Nav)\n",
    "    boy = np.concatenate([Fbv, Nav])\n",
    "    #print(boy)\n",
    "    #print(Fbv)\n",
    "    # aerodynamical forces\n",
    "    gammaaw = (gamma-gammab_wind).T[0]\n",
    "    #print(gammaaw)\n",
    "    _GAMMA = MAT([Ca*np.sign(gammaaw)*gammaaw*gammaaw]).T[0]\n",
    "    #print(_GAMMA)\n",
    "    # all forces together\n",
    "    all_external_forces = Grav+ boy+ _GAMMA\n",
    "    #print(all_external_forces)\n",
    "\n",
    "    #######################\n",
    "\n",
    "    return all_external_forces\n",
    "Rbatest = MAT([1,1,1,1,1,1,1,1,1]).reshape(3,3)\n",
    "gammatest = MAT([[0,1,0,0,0,0]]).T\n",
    "external_forces(1, Rbatest,gammatest)\n",
    "\n",
    "doctest.testmod() "
   ]
  },
  {
   "cell_type": "markdown",
   "metadata": {},
   "source": [
    "## Exercise 5:\n",
    "Finally let implement simulated object. Use previously defined functions."
   ]
  },
  {
   "cell_type": "code",
   "execution_count": 139,
   "metadata": {},
   "outputs": [
    {
     "data": {
      "text/plain": [
       "TestResults(failed=0, attempted=6)"
      ]
     },
     "execution_count": 139,
     "metadata": {},
     "output_type": "execute_result"
    }
   ],
   "source": [
    "@log_results\n",
    "def flying_robot(t,xi_array):\n",
    "    \"\"\"\n",
    "    Equations of motion of flying robot.\n",
    "\n",
    "    >>> xi = range(36); len(flying_robot(0,xi))\n",
    "    36\n",
    "    \"\"\"\n",
    "    xi = MAT([xi_array]).T\n",
    "    x, y, z, R11,R12,R13,R21,R22,R23,R31,R32,R33, u, v, w, p, q, r = xi[0:18]\n",
    "    iex, iey, iez, ieR11,ieR12,ieR13,ieR21,ieR22,ieR23,ieR31,ieR32,ieR33, ieu, iev, iew, iep, ieq, ier  = xi[18:36]\n",
    "    pba = MAT([x,y,z])\n",
    "    n1 = np.linalg.norm([R11,R12,R13])\n",
    "    n2 = np.linalg.norm([R21,R22,R23])\n",
    "    n3 = np.linalg.norm([R31,R32,R33])\n",
    "    Rba = MAT([R11/n1,R12/n1,R13/n1,R21/n2,R22/n2,R23/n2,R31/n3,R32/n3,R33/n3]).reshape(3,3)\n",
    "    \n",
    "    gamma = MAT([u,v,w,p,q,r])\n",
    "    vaa = MAT([u,v,w])\n",
    "    omaa = MAT([p,q,r])\n",
    "    \n",
    "    ## write your code here\n",
    "    # obtain trajectory\n",
    "    xid = trajectory(t)\n",
    "    # calculate control signal\n",
    "    controlls = controller(t,xi, xid)\n",
    "    # apply influence of the environment\n",
    "    forces = controlls + external_forces(t, Rba, gamma)\n",
    "    #print(external_forces(t, Rba, gamma))\n",
    "    # equations of motion\n",
    "    dpba = Rba@vaa\n",
    "    dRba = Rba@S\n",
    "    dgamma = np.linalg.inv(M)@(forces-Ca@gamma)\n",
    "    #print(dgamma)\n",
    "    ###############################\n",
    "    \n",
    "    vdRba = dRba.reshape(9,1)\n",
    "    dxi = np.concatenate([dpba, vdRba, dgamma, xid-xi[0:18]])\n",
    "    return np.ndarray.tolist(dxi.T[0])\n",
    "    #return MAT([1,1,1])\n",
    "\n",
    "doctest.testmod() "
   ]
  },
  {
   "cell_type": "markdown",
   "metadata": {},
   "source": [
    "### Next script performs the simulation and extracts the results."
   ]
  },
  {
   "cell_type": "code",
   "execution_count": 55,
   "metadata": {},
   "outputs": [],
   "source": [
    "# finish time of the simulation\n",
    "tend = 100\n",
    "\n",
    "# define initial conditions\n",
    "Rba0 = np.eye(3)\n",
    "pba0 = MAT([[0,0,0]]).T\n",
    "gamma0 = MAT([[0,0,0,0,0,0]]).T\n",
    "vRba0 = Rba0.reshape(9,1)\n",
    "e0 = np.zeros((18,1))\n",
    "xi_temp = np.concatenate([pba0,vRba0,gamma0,e0])\n",
    "xi0 = np.ndarray.tolist(xi_temp.T[0])\n",
    "\n",
    "# solve the differential equations\n",
    "sim = solve_ivp(flying_robot, [0, tend], xi0, max_step = 1)\n",
    "\n",
    "# extract results\n",
    "t = sim.t\n",
    "\n",
    "# extract logs for significant time moments\n",
    "traj = [trajectory.log[trajectory.t.index(time)] for time in t]\n",
    "ctrl = [controller.log[controller.t.index(time)] for time in t]\n",
    "extf = [external_forces.log[external_forces.t.index(time)] for time in t]\n",
    "derv = [flying_robot.log[flying_robot.t.index(time)] for time in t]\n",
    "\n",
    "n_sampl = len(t)\n",
    "res_pba = MAT(sim.y)[0:3].T\n",
    "res_Rba = MAT(sim.y)[3:12].reshape(3,3,n_sampl)\n",
    "res_gamma = MAT(sim.y)[12:18].T\n",
    "res_pbad = MAT(traj).T[0][0:3].T\n",
    "res_Rbad = MAT(traj).T[0][3:12].reshape(3,3,n_sampl)\n",
    "res_gammad = MAT(traj).T[0][12:18].T\n",
    "res_tau = MAT(ctrl).T[0].T\n",
    "res_exF = MAT(extf).T[0].T\n",
    "res_dpba = MAT(derv).T[0:3].T\n",
    "res_dRba = MAT(derv).T[3:12].reshape(3,3,n_sampl)\n",
    "res_dgamma = MAT(derv).T[12:18].T\n",
    "x, y, z, R11,R12,R13,R21,R22,R23,R31,R32,R33, u, v, w, p, q, r = sim.y[0:18]\n",
    "xd, yd, zd, R11d,R12d,R13d,R21d,R22d,R23d,R31d,R32d,R33d, ud, vd, wd, pd, qd, rd = MAT(traj).T[0]"
   ]
  },
  {
   "cell_type": "markdown",
   "metadata": {},
   "source": [
    "## Exercise 6:\n",
    "Implement following visualisations:\n",
    "- desired position in 3 dimmensions\n",
    "- actual position in 3 dimmensions\n",
    "- error of positions\n",
    "- control signals\n",
    "- value of external forces\n",
    "- velocities"
   ]
  },
  {
   "cell_type": "code",
   "execution_count": 136,
   "metadata": {},
   "outputs": [
    {
     "data": {
      "text/plain": [
       "[<matplotlib.lines.Line2D at 0x7f70a6497cf8>]"
      ]
     },
     "execution_count": 136,
     "metadata": {},
     "output_type": "execute_result"
    },
    {
     "data": {
      "image/png": "[encoded data removed]",
      "text/plain": [
       "<Figure size 432x288 with 6 Axes>"
      ]
     },
     "metadata": {
      "needs_background": "light"
     },
     "output_type": "display_data"
    }
   ],
   "source": [
    "## write your code here\n",
    "fig = plt.figure()\n",
    "trajektoria = fig.add_subplot(231, projection='3d')\n",
    "trajektoria.plot(xd,yd, zd)\n",
    "\n",
    "zycie = fig.add_subplot(232, projection='3d')\n",
    "zycie.plot(x,y, z)\n",
    "\n",
    "bledy = fig.add_subplot(233)\n",
    "bledy.plot(t,xd-x)\n",
    "bledy.plot(t,yd-y)\n",
    "#z ma downa\n",
    "bledy.plot(t,zd-z)\n",
    "\n",
    "ctrl1, ctrl2, ctrl3, ctrl4, ctrl5, ctrl6 =  MAT(ctrl).T[0]\n",
    "kontrola = fig.add_subplot(234)\n",
    "kontrola.plot(t, ctrl1)\n",
    "kontrola.plot(t, ctrl2)\n",
    "kontrola.plot(t, ctrl3)\n",
    "kontrola.plot(t, ctrl4)\n",
    "kontrola.plot(t, ctrl5)\n",
    "kontrola.plot(t, ctrl6)\n",
    "\n",
    "ext1, ext2, ext3, ext4, ext5, ext6 =  MAT(extf).T[0]\n",
    "kontrola = fig.add_subplot(235)\n",
    "kontrola.plot(t, ext1)\n",
    "kontrola.plot(t, ext2)\n",
    "kontrola.plot(t, ext3)\n",
    "kontrola.plot(t, ext4)\n",
    "kontrola.plot(t, ext5)\n",
    "kontrola.plot(t, ext6)\n",
    "\n",
    "\n",
    "predkosci = fig.add_subplot(236)\n",
    "predkosci.plot(t, u)\n",
    "predkosci.plot(t, v)\n",
    "predkosci.plot(t, w)\n",
    "####################"
   ]
  },
  {
   "cell_type": "markdown",
   "metadata": {},
   "source": [
    "## Exercise 7:\n",
    "Implement P, PD, and PID controllers independently for positional degrees of freedom for the task of trajectory tracking."
   ]
  },
  {
   "cell_type": "code",
   "execution_count": null,
   "metadata": {},
   "outputs": [],
   "source": []
  }
 ],
 "metadata": {
  "file_extension": ".py",
  "kernelspec": {
   "display_name": "Python 3",
   "language": "python",
   "name": "python3"
  },
  "language_info": {
   "codemirror_mode": {
    "name": "ipython",
    "version": 3
   },
   "file_extension": ".py",
   "mimetype": "text/x-python",
   "name": "python",
   "nbconvert_exporter": "python",
   "pygments_lexer": "ipython3",
   "version": "3.7.3"
  },
  "mimetype": "text/x-python",
  "name": "python",
  "npconvert_exporter": "python",
  "pygments_lexer": "ipython3",
  "version": 3
 },
 "nbformat": 4,
 "nbformat_minor": 2
}
